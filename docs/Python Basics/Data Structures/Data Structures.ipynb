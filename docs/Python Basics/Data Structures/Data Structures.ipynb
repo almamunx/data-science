{
 "cells": [
  {
   "cell_type": "markdown",
   "metadata": {},
   "source": [
    "# Data Structures"
   ]
  },
  {
   "cell_type": "markdown",
   "metadata": {},
   "source": [
    "## More on Lists"
   ]
  },
  {
   "cell_type": "code",
   "execution_count": 1,
   "metadata": {},
   "outputs": [],
   "source": [
    "#----------------list.append(x)------- Add an item to the end of the list. Equivalent to a[len(a):] = [x]"
   ]
  },
  {
   "cell_type": "code",
   "execution_count": 2,
   "metadata": {},
   "outputs": [
    {
     "name": "stdout",
     "output_type": "stream",
     "text": [
      "['orange', 'apple', 'pear', 'banana']\n"
     ]
    }
   ],
   "source": [
    "fruits = ['orange', 'apple', 'pear']\n",
    "fruits.append('banana')\n",
    "\n",
    "print(fruits)"
   ]
  },
  {
   "cell_type": "code",
   "execution_count": 3,
   "metadata": {},
   "outputs": [],
   "source": [
    "#----------------insert(i, x)------- Insert an item at a given position."
   ]
  },
  {
   "cell_type": "code",
   "execution_count": 4,
   "metadata": {},
   "outputs": [
    {
     "name": "stdout",
     "output_type": "stream",
     "text": [
      "['apple', 'banana', 'orange', 'cherry']\n"
     ]
    }
   ],
   "source": [
    "fruits = ['apple', 'banana', 'cherry']\n",
    "fruits.insert(2, \"orange\")\n",
    "\n",
    "print(fruits)"
   ]
  },
  {
   "cell_type": "code",
   "execution_count": 5,
   "metadata": {},
   "outputs": [
    {
     "name": "stdout",
     "output_type": "stream",
     "text": [
      "['apple', 'banana', 'orange', 'cherry', 'pear']\n"
     ]
    }
   ],
   "source": [
    "fruits.insert(len(fruits), 'pear')   #insert element atthe end, equivalent to fruits.append(x)\n",
    "\n",
    "print(fruits)"
   ]
  },
  {
   "cell_type": "code",
   "execution_count": 6,
   "metadata": {},
   "outputs": [],
   "source": [
    "#----------------remove(x)------- Remove the first item from the list whose value is equal to x.\n",
    "#Note: It raises a ValueError if there is no such item"
   ]
  },
  {
   "cell_type": "code",
   "execution_count": 7,
   "metadata": {},
   "outputs": [
    {
     "name": "stdout",
     "output_type": "stream",
     "text": [
      "['orange', 'cherry']\n"
     ]
    }
   ],
   "source": [
    "fruits = ['apple', 'orange', 'cherry']\n",
    "fruits.remove('apple')\n",
    "\n",
    "print(fruits)"
   ]
  },
  {
   "cell_type": "code",
   "execution_count": 8,
   "metadata": {},
   "outputs": [],
   "source": [
    "#----------------list.pop([i])------- Remove the item at the given position in the list, and return it.\n",
    "#If no index is specified, a.pop() removes and returns the last item in the list."
   ]
  },
  {
   "cell_type": "code",
   "execution_count": 9,
   "metadata": {},
   "outputs": [
    {
     "name": "stdout",
     "output_type": "stream",
     "text": [
      "apple\n",
      "['orange', 'cherry']\n"
     ]
    }
   ],
   "source": [
    "fruits = ['apple', 'orange', 'cherry']\n",
    "\n",
    "print(fruits.pop(0))\n",
    "print(fruits)"
   ]
  },
  {
   "cell_type": "code",
   "execution_count": 10,
   "metadata": {},
   "outputs": [
    {
     "name": "stdout",
     "output_type": "stream",
     "text": [
      "orange\n",
      "['apple', 'banana']\n"
     ]
    }
   ],
   "source": [
    "fruits = ['apple', 'banana', 'orange']\n",
    "\n",
    "print(fruits.pop())\n",
    "print(fruits)"
   ]
  },
  {
   "cell_type": "code",
   "execution_count": 11,
   "metadata": {},
   "outputs": [],
   "source": [
    "#----------------clear()------- Remove all items from the list. Equivalent to del a[:]."
   ]
  },
  {
   "cell_type": "code",
   "execution_count": 12,
   "metadata": {},
   "outputs": [
    {
     "name": "stdout",
     "output_type": "stream",
     "text": [
      "[]\n"
     ]
    }
   ],
   "source": [
    "fruits = ['apple', 'banana', 'orange']\n",
    "\n",
    "fruits.clear()\n",
    "print(fruits)"
   ]
  },
  {
   "cell_type": "code",
   "execution_count": 13,
   "metadata": {},
   "outputs": [
    {
     "data": {
      "text/plain": [
       "5"
      ]
     },
     "execution_count": 13,
     "metadata": {},
     "output_type": "execute_result"
    }
   ],
   "source": [
    "#----------------index(x[, start[, end]])------ Return zero-based index in the list of the first item whose value is equal to x.\n",
    "#Raises a ValueError if there is no such item\n",
    "\n",
    "fruits = ['apple', 'banana', 'orange', 'pear', 'cherry','banana']\n",
    "fruits.index('banana', 2)    #find next bananaafter index[2]"
   ]
  },
  {
   "cell_type": "code",
   "execution_count": 14,
   "metadata": {},
   "outputs": [
    {
     "name": "stdout",
     "output_type": "stream",
     "text": [
      "2\n"
     ]
    }
   ],
   "source": [
    "#----------------count(x)------- Return the number of times x appears in the list.\n",
    "\n",
    "fruits = ['apple', 'banana', 'orange', 'pear', 'cherry','banana']\n",
    "\n",
    "print(fruits.count('banana'))"
   ]
  },
  {
   "cell_type": "code",
   "execution_count": 15,
   "metadata": {},
   "outputs": [],
   "source": [
    "#----------------sort(key=None, reverse=False)------- Sort the items of the list in place (the arguments can be used for sort customization"
   ]
  },
  {
   "cell_type": "code",
   "execution_count": 16,
   "metadata": {},
   "outputs": [
    {
     "name": "stdout",
     "output_type": "stream",
     "text": [
      "['apple', 'banana', 'banana', 'cherry', 'orange', 'pear']\n"
     ]
    }
   ],
   "source": [
    "fruits = ['orange', 'pear', 'cherry','banana', 'apple', 'banana',]\n",
    "fruits.sort()\n",
    "\n",
    "print(fruits)"
   ]
  },
  {
   "cell_type": "code",
   "execution_count": 17,
   "metadata": {},
   "outputs": [],
   "source": [
    "#----------------reversed()------- Reverse the elements of the list in place"
   ]
  },
  {
   "cell_type": "code",
   "execution_count": 18,
   "metadata": {},
   "outputs": [
    {
     "name": "stdout",
     "output_type": "stream",
     "text": [
      "banana\n",
      "cherry\n",
      "pear\n",
      "orange\n"
     ]
    }
   ],
   "source": [
    "fruits = ['orange', 'pear', 'cherry', 'banana']\n",
    "\n",
    "for f in reversed(fruits):\n",
    "    print(f)"
   ]
  },
  {
   "cell_type": "code",
   "execution_count": 19,
   "metadata": {},
   "outputs": [
    {
     "name": "stdout",
     "output_type": "stream",
     "text": [
      "['banana', 'cherry', 'pear', 'orange']\n"
     ]
    }
   ],
   "source": [
    "#you can do it in another way\n",
    "\n",
    "fruits = ['orange', 'pear', 'cherry', 'banana']\n",
    "reversed(fruits)\n",
    "\n",
    "print(fruits[::-1])"
   ]
  },
  {
   "cell_type": "code",
   "execution_count": 20,
   "metadata": {},
   "outputs": [],
   "source": [
    "#----------------copy()------- Return a shallow copy of the list. Equivalent to a[:]"
   ]
  },
  {
   "cell_type": "code",
   "execution_count": 21,
   "metadata": {},
   "outputs": [
    {
     "data": {
      "text/plain": [
       "['orange', 'pear', 'cherry', 'banana']"
      ]
     },
     "execution_count": 21,
     "metadata": {},
     "output_type": "execute_result"
    }
   ],
   "source": [
    "fruits = ['orange', 'pear', 'cherry', 'banana']\n",
    "new_fruits = fruits.copy()\n",
    "\n",
    "new_fruits"
   ]
  },
  {
   "cell_type": "markdown",
   "metadata": {},
   "source": [
    "### Using Lists as Stacks\n",
    "###### In Stack, the last element added is the first element retrieved (“last-in, first-out”)\n",
    "To add an item to the top of the stack, use append(). To retrieve an item from the top of the stack, use pop()"
   ]
  },
  {
   "cell_type": "code",
   "execution_count": 22,
   "metadata": {},
   "outputs": [
    {
     "name": "stdout",
     "output_type": "stream",
     "text": [
      "After adding 6 and 7:  [3, 4, 5, 6, 7]\n",
      "After removing:  [3, 4, 5, 6]\n"
     ]
    }
   ],
   "source": [
    "stack = [3, 4, 5]   #you can use ay name\n",
    "stack.append(6)\n",
    "stack.append(7)\n",
    "print(\"After adding 6 and 7: \",stack)\n",
    "\n",
    "stack.pop()\n",
    "\n",
    "print(\"After removing: \",stack)"
   ]
  },
  {
   "cell_type": "markdown",
   "metadata": {},
   "source": [
    "### Using Lists as Queues\n",
    "###### In Queue, the first element added is the first element retrieved (“first-in, first-out”)\n"
   ]
  },
  {
   "cell_type": "code",
   "execution_count": 23,
   "metadata": {},
   "outputs": [
    {
     "name": "stdout",
     "output_type": "stream",
     "text": [
      "After adding 6 and 7:  [3, 4, 5, 6, 7]\n",
      "After removing:  [4, 5, 6, 7]\n"
     ]
    }
   ],
   "source": [
    "queue = [3, 4, 5]   #you can use ay name\n",
    "queue.append(6)\n",
    "queue.append(7)\n",
    "print(\"After adding 6 and 7: \",queue)\n",
    "\n",
    "queue.pop(0)\n",
    "\n",
    "print(\"After removing: \",queue)"
   ]
  },
  {
   "cell_type": "code",
   "execution_count": null,
   "metadata": {},
   "outputs": [],
   "source": []
  }
 ],
 "metadata": {
  "kernelspec": {
   "display_name": "Python 3",
   "language": "python",
   "name": "python3"
  },
  "language_info": {
   "codemirror_mode": {
    "name": "ipython",
    "version": 3
   },
   "file_extension": ".py",
   "mimetype": "text/x-python",
   "name": "python",
   "nbconvert_exporter": "python",
   "pygments_lexer": "ipython3",
   "version": "3.7.6"
  }
 },
 "nbformat": 4,
 "nbformat_minor": 4
}
