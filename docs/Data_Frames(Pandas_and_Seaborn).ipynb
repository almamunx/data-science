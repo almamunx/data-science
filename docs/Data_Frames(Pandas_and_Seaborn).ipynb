{
  "nbformat": 4,
  "nbformat_minor": 0,
  "metadata": {
    "colab": {
      "name": "Data_Frames(Pandas and Seaborn).ipynb",
      "provenance": [],
      "collapsed_sections": []
    },
    "kernelspec": {
      "name": "python3",
      "display_name": "Python 3"
    }
  },
  "cells": [
    {
      "cell_type": "code",
      "metadata": {
        "id": "Io2sJAJ_eGE-",
        "colab_type": "code",
        "colab": {}
      },
      "source": [
        "import pandas as pd"
      ],
      "execution_count": 92,
      "outputs": []
    },
    {
      "cell_type": "code",
      "metadata": {
        "id": "SESC0WT6hOEw",
        "colab_type": "code",
        "colab": {}
      },
      "source": [
        "# Method 1: Specify path to file"
      ],
      "execution_count": 93,
      "outputs": []
    },
    {
      "cell_type": "code",
      "metadata": {
        "id": "E7KauY6gn1z9",
        "colab_type": "code",
        "colab": {}
      },
      "source": [
        "# Below is a sortable list of countries by the number of Internet users as of 2018. \n",
        "# Internet users are defined as persons who accessed the Internet in the last 12 months from any device, including mobile phone and Tablets.\n",
        "# The percentages on the list are the percentages of each country's population that are Internet users.\n",
        "# Estimates are derived from either household surveys or from Internet subscription data.\n",
        "\n",
        "df = pd.read_csv('https://storage.googleapis.com/kagglesdsdata/datasets%2F295424%2F605527%2FList%20of%20Countries%20by%20number%20of%20Internet%20Users%20-%20Sheet1.csv?GoogleAccessId=gcp-kaggle-com@kaggle-161607.iam.gserviceaccount.com&Expires=1594571904&Signature=KrA95uWAbaFev%2BXFWA82iC066NIMGdZ%2BI3lbu5qzz30I5uyiaSHvOj53OrreU3jTZ1jYCxEORxLaNisnZ7Wz7p8DR%2FjTpCLdbbUIIglhqlloqzBeVaj29Gs3CFkYHwDLveOvkjqPzm4FpXvncXgdumx5Xt9oJyZFhV%2BmRQEpuv7FfKAr6ZEmiQ1%2FJscDOS0QLR07ct2z0dK0%2Btb8EjbZhuA0upqD1ozvFquGLYH9NjZlR5T8zpjhQSImRa8hVrsTCkjhq0IQTpRDsTwPtEoR2Y7pcBkZlDh%2FibAQbM6osQ7vRKqhkOPCQvxHWwOdp42ilRVwfWrZZD%2BQdmxIoUu%2FLA%3D%3D')"
      ],
      "execution_count": 94,
      "outputs": []
    },
    {
      "cell_type": "code",
      "metadata": {
        "id": "HM0xvromqQJU",
        "colab_type": "code",
        "colab": {
          "base_uri": "https://localhost:8080/",
          "height": 419
        },
        "outputId": "0171b46c-a743-4642-9468-c16552426da3"
      },
      "source": [
        "df    #215 rows and 6 columns imported"
      ],
      "execution_count": 95,
      "outputs": [
        {
          "output_type": "execute_result",
          "data": {
            "text/html": [
              "<div>\n",
              "<style scoped>\n",
              "    .dataframe tbody tr th:only-of-type {\n",
              "        vertical-align: middle;\n",
              "    }\n",
              "\n",
              "    .dataframe tbody tr th {\n",
              "        vertical-align: top;\n",
              "    }\n",
              "\n",
              "    .dataframe thead th {\n",
              "        text-align: right;\n",
              "    }\n",
              "</style>\n",
              "<table border=\"1\" class=\"dataframe\">\n",
              "  <thead>\n",
              "    <tr style=\"text-align: right;\">\n",
              "      <th></th>\n",
              "      <th>Country or Area</th>\n",
              "      <th>Internet Users</th>\n",
              "      <th>Population</th>\n",
              "      <th>Rank</th>\n",
              "      <th>Percentage</th>\n",
              "      <th>Rank.1</th>\n",
              "    </tr>\n",
              "  </thead>\n",
              "  <tbody>\n",
              "    <tr>\n",
              "      <th>0</th>\n",
              "      <td>China</td>\n",
              "      <td>765,367,947</td>\n",
              "      <td>1,409,517,397</td>\n",
              "      <td>1</td>\n",
              "      <td>54.30%</td>\n",
              "      <td>116</td>\n",
              "    </tr>\n",
              "    <tr>\n",
              "      <th>1</th>\n",
              "      <td>India</td>\n",
              "      <td>461,347,554</td>\n",
              "      <td>1,339,180,127</td>\n",
              "      <td>2</td>\n",
              "      <td>34.45%</td>\n",
              "      <td>145</td>\n",
              "    </tr>\n",
              "    <tr>\n",
              "      <th>2</th>\n",
              "      <td>United States</td>\n",
              "      <td>244,090,854</td>\n",
              "      <td>324,459,463</td>\n",
              "      <td>3</td>\n",
              "      <td>75.23%</td>\n",
              "      <td>68</td>\n",
              "    </tr>\n",
              "    <tr>\n",
              "      <th>3</th>\n",
              "      <td>Brazil</td>\n",
              "      <td>141,206,801</td>\n",
              "      <td>209,288,278</td>\n",
              "      <td>4</td>\n",
              "      <td>67.47%</td>\n",
              "      <td>83</td>\n",
              "    </tr>\n",
              "    <tr>\n",
              "      <th>4</th>\n",
              "      <td>Japan</td>\n",
              "      <td>115,845,120</td>\n",
              "      <td>127,484,450</td>\n",
              "      <td>5</td>\n",
              "      <td>90.87%</td>\n",
              "      <td>23</td>\n",
              "    </tr>\n",
              "    <tr>\n",
              "      <th>...</th>\n",
              "      <td>...</td>\n",
              "      <td>...</td>\n",
              "      <td>...</td>\n",
              "      <td>...</td>\n",
              "      <td>...</td>\n",
              "      <td>...</td>\n",
              "    </tr>\n",
              "    <tr>\n",
              "      <th>210</th>\n",
              "      <td>Falkland Islands</td>\n",
              "      <td>2,881</td>\n",
              "      <td>2,910</td>\n",
              "      <td>211</td>\n",
              "      <td>99.02% (2016)</td>\n",
              "      <td>-</td>\n",
              "    </tr>\n",
              "    <tr>\n",
              "      <th>211</th>\n",
              "      <td>Montserrat</td>\n",
              "      <td>2,833</td>\n",
              "      <td>5,177</td>\n",
              "      <td>212</td>\n",
              "      <td>54.55% (2013)</td>\n",
              "      <td>115</td>\n",
              "    </tr>\n",
              "    <tr>\n",
              "      <th>212</th>\n",
              "      <td>Wallis and Futuna</td>\n",
              "      <td>1,383</td>\n",
              "      <td>11,773</td>\n",
              "      <td>213</td>\n",
              "      <td>8.95% (2012)</td>\n",
              "      <td>-</td>\n",
              "    </tr>\n",
              "    <tr>\n",
              "      <th>213</th>\n",
              "      <td>Niue</td>\n",
              "      <td>1,034</td>\n",
              "      <td>1,618</td>\n",
              "      <td>214</td>\n",
              "      <td>86.90% (2013)</td>\n",
              "      <td>30</td>\n",
              "    </tr>\n",
              "    <tr>\n",
              "      <th>214</th>\n",
              "      <td>Ascension</td>\n",
              "      <td>361</td>\n",
              "      <td>806</td>\n",
              "      <td>215</td>\n",
              "      <td>41.03% (2012)</td>\n",
              "      <td>-</td>\n",
              "    </tr>\n",
              "  </tbody>\n",
              "</table>\n",
              "<p>215 rows × 6 columns</p>\n",
              "</div>"
            ],
            "text/plain": [
              "       Country or Area Internet Users  ...     Percentage  Rank.1\n",
              "0                China    765,367,947  ...         54.30%     116\n",
              "1                India    461,347,554  ...         34.45%     145\n",
              "2        United States    244,090,854  ...         75.23%      68\n",
              "3               Brazil    141,206,801  ...         67.47%      83\n",
              "4                Japan    115,845,120  ...         90.87%      23\n",
              "..                 ...            ...  ...            ...     ...\n",
              "210   Falkland Islands          2,881  ...  99.02% (2016)       -\n",
              "211         Montserrat          2,833  ...  54.55% (2013)     115\n",
              "212  Wallis and Futuna          1,383  ...   8.95% (2012)       -\n",
              "213               Niue          1,034  ...  86.90% (2013)      30\n",
              "214          Ascension            361  ...  41.03% (2012)       -\n",
              "\n",
              "[215 rows x 6 columns]"
            ]
          },
          "metadata": {
            "tags": []
          },
          "execution_count": 95
        }
      ]
    },
    {
      "cell_type": "code",
      "metadata": {
        "id": "ekIU-ECC3sYK",
        "colab_type": "code",
        "colab": {}
      },
      "source": [
        "# Get working file directory"
      ],
      "execution_count": 96,
      "outputs": []
    },
    {
      "cell_type": "code",
      "metadata": {
        "id": "8gcR5M8qrkW6",
        "colab_type": "code",
        "colab": {}
      },
      "source": [
        "import os"
      ],
      "execution_count": 97,
      "outputs": []
    },
    {
      "cell_type": "code",
      "metadata": {
        "id": "3ynUpb4R1mGK",
        "colab_type": "code",
        "colab": {
          "base_uri": "https://localhost:8080/",
          "height": 34
        },
        "outputId": "1704a5b1-be35-4e75-df04-332f3f0548c2"
      },
      "source": [
        "print(os.getcwd())"
      ],
      "execution_count": 98,
      "outputs": [
        {
          "output_type": "stream",
          "text": [
            "/content\n"
          ],
          "name": "stdout"
        }
      ]
    },
    {
      "cell_type": "code",
      "metadata": {
        "id": "Ut_ZoSlL2ORI",
        "colab_type": "code",
        "colab": {}
      },
      "source": [
        "## Exploring your Data"
      ],
      "execution_count": 99,
      "outputs": []
    },
    {
      "cell_type": "code",
      "metadata": {
        "id": "2iGA2ViY4sVQ",
        "colab_type": "code",
        "colab": {
          "base_uri": "https://localhost:8080/",
          "height": 419
        },
        "outputId": "c7daabbe-1bda-43ab-8637-8603428fd8ce"
      },
      "source": [
        "#1. Full data frame \n",
        "df"
      ],
      "execution_count": 100,
      "outputs": [
        {
          "output_type": "execute_result",
          "data": {
            "text/html": [
              "<div>\n",
              "<style scoped>\n",
              "    .dataframe tbody tr th:only-of-type {\n",
              "        vertical-align: middle;\n",
              "    }\n",
              "\n",
              "    .dataframe tbody tr th {\n",
              "        vertical-align: top;\n",
              "    }\n",
              "\n",
              "    .dataframe thead th {\n",
              "        text-align: right;\n",
              "    }\n",
              "</style>\n",
              "<table border=\"1\" class=\"dataframe\">\n",
              "  <thead>\n",
              "    <tr style=\"text-align: right;\">\n",
              "      <th></th>\n",
              "      <th>Country or Area</th>\n",
              "      <th>Internet Users</th>\n",
              "      <th>Population</th>\n",
              "      <th>Rank</th>\n",
              "      <th>Percentage</th>\n",
              "      <th>Rank.1</th>\n",
              "    </tr>\n",
              "  </thead>\n",
              "  <tbody>\n",
              "    <tr>\n",
              "      <th>0</th>\n",
              "      <td>China</td>\n",
              "      <td>765,367,947</td>\n",
              "      <td>1,409,517,397</td>\n",
              "      <td>1</td>\n",
              "      <td>54.30%</td>\n",
              "      <td>116</td>\n",
              "    </tr>\n",
              "    <tr>\n",
              "      <th>1</th>\n",
              "      <td>India</td>\n",
              "      <td>461,347,554</td>\n",
              "      <td>1,339,180,127</td>\n",
              "      <td>2</td>\n",
              "      <td>34.45%</td>\n",
              "      <td>145</td>\n",
              "    </tr>\n",
              "    <tr>\n",
              "      <th>2</th>\n",
              "      <td>United States</td>\n",
              "      <td>244,090,854</td>\n",
              "      <td>324,459,463</td>\n",
              "      <td>3</td>\n",
              "      <td>75.23%</td>\n",
              "      <td>68</td>\n",
              "    </tr>\n",
              "    <tr>\n",
              "      <th>3</th>\n",
              "      <td>Brazil</td>\n",
              "      <td>141,206,801</td>\n",
              "      <td>209,288,278</td>\n",
              "      <td>4</td>\n",
              "      <td>67.47%</td>\n",
              "      <td>83</td>\n",
              "    </tr>\n",
              "    <tr>\n",
              "      <th>4</th>\n",
              "      <td>Japan</td>\n",
              "      <td>115,845,120</td>\n",
              "      <td>127,484,450</td>\n",
              "      <td>5</td>\n",
              "      <td>90.87%</td>\n",
              "      <td>23</td>\n",
              "    </tr>\n",
              "    <tr>\n",
              "      <th>...</th>\n",
              "      <td>...</td>\n",
              "      <td>...</td>\n",
              "      <td>...</td>\n",
              "      <td>...</td>\n",
              "      <td>...</td>\n",
              "      <td>...</td>\n",
              "    </tr>\n",
              "    <tr>\n",
              "      <th>210</th>\n",
              "      <td>Falkland Islands</td>\n",
              "      <td>2,881</td>\n",
              "      <td>2,910</td>\n",
              "      <td>211</td>\n",
              "      <td>99.02% (2016)</td>\n",
              "      <td>-</td>\n",
              "    </tr>\n",
              "    <tr>\n",
              "      <th>211</th>\n",
              "      <td>Montserrat</td>\n",
              "      <td>2,833</td>\n",
              "      <td>5,177</td>\n",
              "      <td>212</td>\n",
              "      <td>54.55% (2013)</td>\n",
              "      <td>115</td>\n",
              "    </tr>\n",
              "    <tr>\n",
              "      <th>212</th>\n",
              "      <td>Wallis and Futuna</td>\n",
              "      <td>1,383</td>\n",
              "      <td>11,773</td>\n",
              "      <td>213</td>\n",
              "      <td>8.95% (2012)</td>\n",
              "      <td>-</td>\n",
              "    </tr>\n",
              "    <tr>\n",
              "      <th>213</th>\n",
              "      <td>Niue</td>\n",
              "      <td>1,034</td>\n",
              "      <td>1,618</td>\n",
              "      <td>214</td>\n",
              "      <td>86.90% (2013)</td>\n",
              "      <td>30</td>\n",
              "    </tr>\n",
              "    <tr>\n",
              "      <th>214</th>\n",
              "      <td>Ascension</td>\n",
              "      <td>361</td>\n",
              "      <td>806</td>\n",
              "      <td>215</td>\n",
              "      <td>41.03% (2012)</td>\n",
              "      <td>-</td>\n",
              "    </tr>\n",
              "  </tbody>\n",
              "</table>\n",
              "<p>215 rows × 6 columns</p>\n",
              "</div>"
            ],
            "text/plain": [
              "       Country or Area Internet Users  ...     Percentage  Rank.1\n",
              "0                China    765,367,947  ...         54.30%     116\n",
              "1                India    461,347,554  ...         34.45%     145\n",
              "2        United States    244,090,854  ...         75.23%      68\n",
              "3               Brazil    141,206,801  ...         67.47%      83\n",
              "4                Japan    115,845,120  ...         90.87%      23\n",
              "..                 ...            ...  ...            ...     ...\n",
              "210   Falkland Islands          2,881  ...  99.02% (2016)       -\n",
              "211         Montserrat          2,833  ...  54.55% (2013)     115\n",
              "212  Wallis and Futuna          1,383  ...   8.95% (2012)       -\n",
              "213               Niue          1,034  ...  86.90% (2013)      30\n",
              "214          Ascension            361  ...  41.03% (2012)       -\n",
              "\n",
              "[215 rows x 6 columns]"
            ]
          },
          "metadata": {
            "tags": []
          },
          "execution_count": 100
        }
      ]
    },
    {
      "cell_type": "code",
      "metadata": {
        "id": "LvoLBx6KKa1D",
        "colab_type": "code",
        "colab": {
          "base_uri": "https://localhost:8080/",
          "height": 34
        },
        "outputId": "b22c6c9b-65d7-408f-8bff-409827454e64"
      },
      "source": [
        "df.shape"
      ],
      "execution_count": 101,
      "outputs": [
        {
          "output_type": "execute_result",
          "data": {
            "text/plain": [
              "(215, 6)"
            ]
          },
          "metadata": {
            "tags": []
          },
          "execution_count": 101
        }
      ]
    },
    {
      "cell_type": "code",
      "metadata": {
        "id": "lEwwThDW4zyI",
        "colab_type": "code",
        "colab": {
          "base_uri": "https://localhost:8080/",
          "height": 34
        },
        "outputId": "cf0346ac-a2a9-461b-8b82-8cd79ef10e01"
      },
      "source": [
        "#2. Number of rows\n",
        "len(df)"
      ],
      "execution_count": 102,
      "outputs": [
        {
          "output_type": "execute_result",
          "data": {
            "text/plain": [
              "215"
            ]
          },
          "metadata": {
            "tags": []
          },
          "execution_count": 102
        }
      ]
    },
    {
      "cell_type": "code",
      "metadata": {
        "id": "hVpTgJ0Y4_Go",
        "colab_type": "code",
        "colab": {
          "base_uri": "https://localhost:8080/",
          "height": 68
        },
        "outputId": "2546b825-fc94-4d18-e873-dd4261201e19"
      },
      "source": [
        "#3. see columns\n",
        "df.columns"
      ],
      "execution_count": 103,
      "outputs": [
        {
          "output_type": "execute_result",
          "data": {
            "text/plain": [
              "Index(['Country or Area', 'Internet Users', 'Population', 'Rank', 'Percentage',\n",
              "       'Rank.1'],\n",
              "      dtype='object')"
            ]
          },
          "metadata": {
            "tags": []
          },
          "execution_count": 103
        }
      ]
    },
    {
      "cell_type": "code",
      "metadata": {
        "id": "worImV5q6flI",
        "colab_type": "code",
        "colab": {
          "base_uri": "https://localhost:8080/",
          "height": 34
        },
        "outputId": "f374e96b-dea6-4a67-eb6b-c980faaf704d"
      },
      "source": [
        "#4. Number of columns\n",
        "len(df.columns)"
      ],
      "execution_count": 104,
      "outputs": [
        {
          "output_type": "execute_result",
          "data": {
            "text/plain": [
              "6"
            ]
          },
          "metadata": {
            "tags": []
          },
          "execution_count": 104
        }
      ]
    },
    {
      "cell_type": "code",
      "metadata": {
        "id": "dyzp5ZmjLbAW",
        "colab_type": "code",
        "colab": {}
      },
      "source": [
        "### Missing values"
      ],
      "execution_count": 105,
      "outputs": []
    },
    {
      "cell_type": "code",
      "metadata": {
        "id": "kXAL_6SOLfQ4",
        "colab_type": "code",
        "colab": {
          "base_uri": "https://localhost:8080/",
          "height": 51
        },
        "outputId": "bdb7dd8c-e870-4d55-de05-9f10221d194c"
      },
      "source": [
        "print(pd.isnull(df.Population).sum())\n",
        "print(pd.notnull(df.Population).sum())"
      ],
      "execution_count": 106,
      "outputs": [
        {
          "output_type": "stream",
          "text": [
            "0\n",
            "215\n"
          ],
          "name": "stdout"
        }
      ]
    },
    {
      "cell_type": "code",
      "metadata": {
        "id": "3vUjSjrX6mob",
        "colab_type": "code",
        "colab": {
          "base_uri": "https://localhost:8080/",
          "height": 204
        },
        "outputId": "a91b9602-263c-42a5-8262-8c8ff8679c39"
      },
      "source": [
        "#5. Top rows\n",
        "df.head()"
      ],
      "execution_count": 107,
      "outputs": [
        {
          "output_type": "execute_result",
          "data": {
            "text/html": [
              "<div>\n",
              "<style scoped>\n",
              "    .dataframe tbody tr th:only-of-type {\n",
              "        vertical-align: middle;\n",
              "    }\n",
              "\n",
              "    .dataframe tbody tr th {\n",
              "        vertical-align: top;\n",
              "    }\n",
              "\n",
              "    .dataframe thead th {\n",
              "        text-align: right;\n",
              "    }\n",
              "</style>\n",
              "<table border=\"1\" class=\"dataframe\">\n",
              "  <thead>\n",
              "    <tr style=\"text-align: right;\">\n",
              "      <th></th>\n",
              "      <th>Country or Area</th>\n",
              "      <th>Internet Users</th>\n",
              "      <th>Population</th>\n",
              "      <th>Rank</th>\n",
              "      <th>Percentage</th>\n",
              "      <th>Rank.1</th>\n",
              "    </tr>\n",
              "  </thead>\n",
              "  <tbody>\n",
              "    <tr>\n",
              "      <th>0</th>\n",
              "      <td>China</td>\n",
              "      <td>765,367,947</td>\n",
              "      <td>1,409,517,397</td>\n",
              "      <td>1</td>\n",
              "      <td>54.30%</td>\n",
              "      <td>116</td>\n",
              "    </tr>\n",
              "    <tr>\n",
              "      <th>1</th>\n",
              "      <td>India</td>\n",
              "      <td>461,347,554</td>\n",
              "      <td>1,339,180,127</td>\n",
              "      <td>2</td>\n",
              "      <td>34.45%</td>\n",
              "      <td>145</td>\n",
              "    </tr>\n",
              "    <tr>\n",
              "      <th>2</th>\n",
              "      <td>United States</td>\n",
              "      <td>244,090,854</td>\n",
              "      <td>324,459,463</td>\n",
              "      <td>3</td>\n",
              "      <td>75.23%</td>\n",
              "      <td>68</td>\n",
              "    </tr>\n",
              "    <tr>\n",
              "      <th>3</th>\n",
              "      <td>Brazil</td>\n",
              "      <td>141,206,801</td>\n",
              "      <td>209,288,278</td>\n",
              "      <td>4</td>\n",
              "      <td>67.47%</td>\n",
              "      <td>83</td>\n",
              "    </tr>\n",
              "    <tr>\n",
              "      <th>4</th>\n",
              "      <td>Japan</td>\n",
              "      <td>115,845,120</td>\n",
              "      <td>127,484,450</td>\n",
              "      <td>5</td>\n",
              "      <td>90.87%</td>\n",
              "      <td>23</td>\n",
              "    </tr>\n",
              "  </tbody>\n",
              "</table>\n",
              "</div>"
            ],
            "text/plain": [
              "  Country or Area Internet Users     Population  Rank Percentage Rank.1\n",
              "0           China    765,367,947  1,409,517,397     1     54.30%    116\n",
              "1           India    461,347,554  1,339,180,127     2     34.45%    145\n",
              "2   United States    244,090,854    324,459,463     3     75.23%     68\n",
              "3          Brazil    141,206,801    209,288,278     4     67.47%     83\n",
              "4           Japan    115,845,120    127,484,450     5     90.87%     23"
            ]
          },
          "metadata": {
            "tags": []
          },
          "execution_count": 107
        }
      ]
    },
    {
      "cell_type": "code",
      "metadata": {
        "id": "AS2Gw0-F6snK",
        "colab_type": "code",
        "colab": {
          "base_uri": "https://localhost:8080/",
          "height": 359
        },
        "outputId": "7d6569f8-6cdb-4583-9305-958f8340b01d"
      },
      "source": [
        "#5. Top 10 rows\n",
        "df.head(10)"
      ],
      "execution_count": 108,
      "outputs": [
        {
          "output_type": "execute_result",
          "data": {
            "text/html": [
              "<div>\n",
              "<style scoped>\n",
              "    .dataframe tbody tr th:only-of-type {\n",
              "        vertical-align: middle;\n",
              "    }\n",
              "\n",
              "    .dataframe tbody tr th {\n",
              "        vertical-align: top;\n",
              "    }\n",
              "\n",
              "    .dataframe thead th {\n",
              "        text-align: right;\n",
              "    }\n",
              "</style>\n",
              "<table border=\"1\" class=\"dataframe\">\n",
              "  <thead>\n",
              "    <tr style=\"text-align: right;\">\n",
              "      <th></th>\n",
              "      <th>Country or Area</th>\n",
              "      <th>Internet Users</th>\n",
              "      <th>Population</th>\n",
              "      <th>Rank</th>\n",
              "      <th>Percentage</th>\n",
              "      <th>Rank.1</th>\n",
              "    </tr>\n",
              "  </thead>\n",
              "  <tbody>\n",
              "    <tr>\n",
              "      <th>0</th>\n",
              "      <td>China</td>\n",
              "      <td>765,367,947</td>\n",
              "      <td>1,409,517,397</td>\n",
              "      <td>1</td>\n",
              "      <td>54.30%</td>\n",
              "      <td>116</td>\n",
              "    </tr>\n",
              "    <tr>\n",
              "      <th>1</th>\n",
              "      <td>India</td>\n",
              "      <td>461,347,554</td>\n",
              "      <td>1,339,180,127</td>\n",
              "      <td>2</td>\n",
              "      <td>34.45%</td>\n",
              "      <td>145</td>\n",
              "    </tr>\n",
              "    <tr>\n",
              "      <th>2</th>\n",
              "      <td>United States</td>\n",
              "      <td>244,090,854</td>\n",
              "      <td>324,459,463</td>\n",
              "      <td>3</td>\n",
              "      <td>75.23%</td>\n",
              "      <td>68</td>\n",
              "    </tr>\n",
              "    <tr>\n",
              "      <th>3</th>\n",
              "      <td>Brazil</td>\n",
              "      <td>141,206,801</td>\n",
              "      <td>209,288,278</td>\n",
              "      <td>4</td>\n",
              "      <td>67.47%</td>\n",
              "      <td>83</td>\n",
              "    </tr>\n",
              "    <tr>\n",
              "      <th>4</th>\n",
              "      <td>Japan</td>\n",
              "      <td>115,845,120</td>\n",
              "      <td>127,484,450</td>\n",
              "      <td>5</td>\n",
              "      <td>90.87%</td>\n",
              "      <td>23</td>\n",
              "    </tr>\n",
              "    <tr>\n",
              "      <th>5</th>\n",
              "      <td>Russia</td>\n",
              "      <td>109,446,612</td>\n",
              "      <td>143,989,754</td>\n",
              "      <td>6</td>\n",
              "      <td>76.01%</td>\n",
              "      <td>64</td>\n",
              "    </tr>\n",
              "    <tr>\n",
              "      <th>6</th>\n",
              "      <td>Indonesia</td>\n",
              "      <td>85,242,816</td>\n",
              "      <td>263,991,379</td>\n",
              "      <td>7</td>\n",
              "      <td>32.29%</td>\n",
              "      <td>150</td>\n",
              "    </tr>\n",
              "    <tr>\n",
              "      <th>7</th>\n",
              "      <td>Mexico</td>\n",
              "      <td>82,470,752</td>\n",
              "      <td>129,163,276</td>\n",
              "      <td>8</td>\n",
              "      <td>63.85%</td>\n",
              "      <td>92</td>\n",
              "    </tr>\n",
              "    <tr>\n",
              "      <th>8</th>\n",
              "      <td>Germany</td>\n",
              "      <td>69,304,405</td>\n",
              "      <td>82,114,224</td>\n",
              "      <td>9</td>\n",
              "      <td>84.40%</td>\n",
              "      <td>36</td>\n",
              "    </tr>\n",
              "    <tr>\n",
              "      <th>9</th>\n",
              "      <td>Philippines</td>\n",
              "      <td>63,003,313</td>\n",
              "      <td>104,918,090</td>\n",
              "      <td>10</td>\n",
              "      <td>60.05%</td>\n",
              "      <td>103</td>\n",
              "    </tr>\n",
              "  </tbody>\n",
              "</table>\n",
              "</div>"
            ],
            "text/plain": [
              "  Country or Area Internet Users     Population  Rank Percentage Rank.1\n",
              "0           China    765,367,947  1,409,517,397     1     54.30%    116\n",
              "1           India    461,347,554  1,339,180,127     2     34.45%    145\n",
              "2   United States    244,090,854    324,459,463     3     75.23%     68\n",
              "3          Brazil    141,206,801    209,288,278     4     67.47%     83\n",
              "4           Japan    115,845,120    127,484,450     5     90.87%     23\n",
              "5          Russia    109,446,612    143,989,754     6     76.01%     64\n",
              "6       Indonesia     85,242,816    263,991,379     7     32.29%    150\n",
              "7          Mexico     82,470,752    129,163,276     8     63.85%     92\n",
              "8         Germany     69,304,405     82,114,224     9     84.40%     36\n",
              "9     Philippines     63,003,313    104,918,090    10     60.05%    103"
            ]
          },
          "metadata": {
            "tags": []
          },
          "execution_count": 108
        }
      ]
    },
    {
      "cell_type": "code",
      "metadata": {
        "id": "hbEkO8UI61Ei",
        "colab_type": "code",
        "colab": {
          "base_uri": "https://localhost:8080/",
          "height": 359
        },
        "outputId": "b1fe9ca1-a8e4-4750-c9e2-1729cd0ecd4b"
      },
      "source": [
        "#6. Bottom rows\n",
        "df.tail(10)"
      ],
      "execution_count": 109,
      "outputs": [
        {
          "output_type": "execute_result",
          "data": {
            "text/html": [
              "<div>\n",
              "<style scoped>\n",
              "    .dataframe tbody tr th:only-of-type {\n",
              "        vertical-align: middle;\n",
              "    }\n",
              "\n",
              "    .dataframe tbody tr th {\n",
              "        vertical-align: top;\n",
              "    }\n",
              "\n",
              "    .dataframe thead th {\n",
              "        text-align: right;\n",
              "    }\n",
              "</style>\n",
              "<table border=\"1\" class=\"dataframe\">\n",
              "  <thead>\n",
              "    <tr style=\"text-align: right;\">\n",
              "      <th></th>\n",
              "      <th>Country or Area</th>\n",
              "      <th>Internet Users</th>\n",
              "      <th>Population</th>\n",
              "      <th>Rank</th>\n",
              "      <th>Percentage</th>\n",
              "      <th>Rank.1</th>\n",
              "    </tr>\n",
              "  </thead>\n",
              "  <tbody>\n",
              "    <tr>\n",
              "      <th>205</th>\n",
              "      <td>British Virgin Islands</td>\n",
              "      <td>14,456</td>\n",
              "      <td>31,196</td>\n",
              "      <td>206</td>\n",
              "      <td>37.60% (2012)</td>\n",
              "      <td>141</td>\n",
              "    </tr>\n",
              "    <tr>\n",
              "      <th>206</th>\n",
              "      <td>Anguilla</td>\n",
              "      <td>12,043</td>\n",
              "      <td>14,909</td>\n",
              "      <td>207</td>\n",
              "      <td>81.57% (2016)</td>\n",
              "      <td>44</td>\n",
              "    </tr>\n",
              "    <tr>\n",
              "      <th>207</th>\n",
              "      <td>Nauru</td>\n",
              "      <td>6,475</td>\n",
              "      <td>11,359</td>\n",
              "      <td>208</td>\n",
              "      <td>57.00%</td>\n",
              "      <td>110</td>\n",
              "    </tr>\n",
              "    <tr>\n",
              "      <th>208</th>\n",
              "      <td>Tuvalu</td>\n",
              "      <td>5,520</td>\n",
              "      <td>11,192</td>\n",
              "      <td>209</td>\n",
              "      <td>49.32%</td>\n",
              "      <td>124</td>\n",
              "    </tr>\n",
              "    <tr>\n",
              "      <th>209</th>\n",
              "      <td>Saint Helena</td>\n",
              "      <td>2,906</td>\n",
              "      <td>4,534</td>\n",
              "      <td>210</td>\n",
              "      <td>37.60% (2012)</td>\n",
              "      <td>-</td>\n",
              "    </tr>\n",
              "    <tr>\n",
              "      <th>210</th>\n",
              "      <td>Falkland Islands</td>\n",
              "      <td>2,881</td>\n",
              "      <td>2,910</td>\n",
              "      <td>211</td>\n",
              "      <td>99.02% (2016)</td>\n",
              "      <td>-</td>\n",
              "    </tr>\n",
              "    <tr>\n",
              "      <th>211</th>\n",
              "      <td>Montserrat</td>\n",
              "      <td>2,833</td>\n",
              "      <td>5,177</td>\n",
              "      <td>212</td>\n",
              "      <td>54.55% (2013)</td>\n",
              "      <td>115</td>\n",
              "    </tr>\n",
              "    <tr>\n",
              "      <th>212</th>\n",
              "      <td>Wallis and Futuna</td>\n",
              "      <td>1,383</td>\n",
              "      <td>11,773</td>\n",
              "      <td>213</td>\n",
              "      <td>8.95% (2012)</td>\n",
              "      <td>-</td>\n",
              "    </tr>\n",
              "    <tr>\n",
              "      <th>213</th>\n",
              "      <td>Niue</td>\n",
              "      <td>1,034</td>\n",
              "      <td>1,618</td>\n",
              "      <td>214</td>\n",
              "      <td>86.90% (2013)</td>\n",
              "      <td>30</td>\n",
              "    </tr>\n",
              "    <tr>\n",
              "      <th>214</th>\n",
              "      <td>Ascension</td>\n",
              "      <td>361</td>\n",
              "      <td>806</td>\n",
              "      <td>215</td>\n",
              "      <td>41.03% (2012)</td>\n",
              "      <td>-</td>\n",
              "    </tr>\n",
              "  </tbody>\n",
              "</table>\n",
              "</div>"
            ],
            "text/plain": [
              "            Country or Area Internet Users  ...     Percentage  Rank.1\n",
              "205  British Virgin Islands         14,456  ...  37.60% (2012)     141\n",
              "206                Anguilla         12,043  ...  81.57% (2016)      44\n",
              "207                   Nauru          6,475  ...         57.00%     110\n",
              "208                  Tuvalu          5,520  ...         49.32%     124\n",
              "209            Saint Helena          2,906  ...  37.60% (2012)       -\n",
              "210        Falkland Islands          2,881  ...  99.02% (2016)       -\n",
              "211              Montserrat          2,833  ...  54.55% (2013)     115\n",
              "212       Wallis and Futuna          1,383  ...   8.95% (2012)       -\n",
              "213                    Niue          1,034  ...  86.90% (2013)      30\n",
              "214               Ascension            361  ...  41.03% (2012)       -\n",
              "\n",
              "[10 rows x 6 columns]"
            ]
          },
          "metadata": {
            "tags": []
          },
          "execution_count": 109
        }
      ]
    },
    {
      "cell_type": "code",
      "metadata": {
        "id": "bCDf2ed_7GIp",
        "colab_type": "code",
        "colab": {
          "base_uri": "https://localhost:8080/",
          "height": 238
        },
        "outputId": "f8db6ecb-1bc8-47c0-dee4-a8afc209641e"
      },
      "source": [
        "#7. Information on the columns\n",
        "df.info()  #Like the str() function in R"
      ],
      "execution_count": 110,
      "outputs": [
        {
          "output_type": "stream",
          "text": [
            "<class 'pandas.core.frame.DataFrame'>\n",
            "RangeIndex: 215 entries, 0 to 214\n",
            "Data columns (total 6 columns):\n",
            " #   Column           Non-Null Count  Dtype \n",
            "---  ------           --------------  ----- \n",
            " 0   Country or Area  215 non-null    object\n",
            " 1   Internet Users   215 non-null    object\n",
            " 2   Population       215 non-null    object\n",
            " 3   Rank             215 non-null    int64 \n",
            " 4   Percentage       215 non-null    object\n",
            " 5   Rank.1           215 non-null    object\n",
            "dtypes: int64(1), object(5)\n",
            "memory usage: 10.2+ KB\n"
          ],
          "name": "stdout"
        }
      ]
    },
    {
      "cell_type": "code",
      "metadata": {
        "id": "6g67Ngw17Z6Y",
        "colab_type": "code",
        "colab": {
          "base_uri": "https://localhost:8080/",
          "height": 297
        },
        "outputId": "923295e0-f2ce-411d-c824-a9169e731bdb"
      },
      "source": [
        "#8. Get stats on the columns\n",
        "df.describe() #like summary() function in R"
      ],
      "execution_count": 111,
      "outputs": [
        {
          "output_type": "execute_result",
          "data": {
            "text/html": [
              "<div>\n",
              "<style scoped>\n",
              "    .dataframe tbody tr th:only-of-type {\n",
              "        vertical-align: middle;\n",
              "    }\n",
              "\n",
              "    .dataframe tbody tr th {\n",
              "        vertical-align: top;\n",
              "    }\n",
              "\n",
              "    .dataframe thead th {\n",
              "        text-align: right;\n",
              "    }\n",
              "</style>\n",
              "<table border=\"1\" class=\"dataframe\">\n",
              "  <thead>\n",
              "    <tr style=\"text-align: right;\">\n",
              "      <th></th>\n",
              "      <th>Rank</th>\n",
              "    </tr>\n",
              "  </thead>\n",
              "  <tbody>\n",
              "    <tr>\n",
              "      <th>count</th>\n",
              "      <td>215.000000</td>\n",
              "    </tr>\n",
              "    <tr>\n",
              "      <th>mean</th>\n",
              "      <td>108.000000</td>\n",
              "    </tr>\n",
              "    <tr>\n",
              "      <th>std</th>\n",
              "      <td>62.209324</td>\n",
              "    </tr>\n",
              "    <tr>\n",
              "      <th>min</th>\n",
              "      <td>1.000000</td>\n",
              "    </tr>\n",
              "    <tr>\n",
              "      <th>25%</th>\n",
              "      <td>54.500000</td>\n",
              "    </tr>\n",
              "    <tr>\n",
              "      <th>50%</th>\n",
              "      <td>108.000000</td>\n",
              "    </tr>\n",
              "    <tr>\n",
              "      <th>75%</th>\n",
              "      <td>161.500000</td>\n",
              "    </tr>\n",
              "    <tr>\n",
              "      <th>max</th>\n",
              "      <td>215.000000</td>\n",
              "    </tr>\n",
              "  </tbody>\n",
              "</table>\n",
              "</div>"
            ],
            "text/plain": [
              "             Rank\n",
              "count  215.000000\n",
              "mean   108.000000\n",
              "std     62.209324\n",
              "min      1.000000\n",
              "25%     54.500000\n",
              "50%    108.000000\n",
              "75%    161.500000\n",
              "max    215.000000"
            ]
          },
          "metadata": {
            "tags": []
          },
          "execution_count": 111
        }
      ]
    },
    {
      "cell_type": "code",
      "metadata": {
        "id": "sGFJ-WGDidvK",
        "colab_type": "code",
        "colab": {
          "base_uri": "https://localhost:8080/",
          "height": 136
        },
        "outputId": "3e507884-915a-4cf8-9a3a-50ff52767871"
      },
      "source": [
        "#Get data types of columns\n",
        "df.dtypes"
      ],
      "execution_count": 112,
      "outputs": [
        {
          "output_type": "execute_result",
          "data": {
            "text/plain": [
              "Country or Area    object\n",
              "Internet Users     object\n",
              "Population         object\n",
              "Rank                int64\n",
              "Percentage         object\n",
              "Rank.1             object\n",
              "dtype: object"
            ]
          },
          "metadata": {
            "tags": []
          },
          "execution_count": 112
        }
      ]
    },
    {
      "cell_type": "code",
      "metadata": {
        "id": "yHSBOAuH7-5p",
        "colab_type": "code",
        "colab": {
          "base_uri": "https://localhost:8080/",
          "height": 80
        },
        "outputId": "73d3277d-8fe0-41dd-8de7-179bb7f2349f"
      },
      "source": [
        "df.describe().transpose()"
      ],
      "execution_count": 113,
      "outputs": [
        {
          "output_type": "execute_result",
          "data": {
            "text/html": [
              "<div>\n",
              "<style scoped>\n",
              "    .dataframe tbody tr th:only-of-type {\n",
              "        vertical-align: middle;\n",
              "    }\n",
              "\n",
              "    .dataframe tbody tr th {\n",
              "        vertical-align: top;\n",
              "    }\n",
              "\n",
              "    .dataframe thead th {\n",
              "        text-align: right;\n",
              "    }\n",
              "</style>\n",
              "<table border=\"1\" class=\"dataframe\">\n",
              "  <thead>\n",
              "    <tr style=\"text-align: right;\">\n",
              "      <th></th>\n",
              "      <th>count</th>\n",
              "      <th>mean</th>\n",
              "      <th>std</th>\n",
              "      <th>min</th>\n",
              "      <th>25%</th>\n",
              "      <th>50%</th>\n",
              "      <th>75%</th>\n",
              "      <th>max</th>\n",
              "    </tr>\n",
              "  </thead>\n",
              "  <tbody>\n",
              "    <tr>\n",
              "      <th>Rank</th>\n",
              "      <td>215.0</td>\n",
              "      <td>108.0</td>\n",
              "      <td>62.209324</td>\n",
              "      <td>1.0</td>\n",
              "      <td>54.5</td>\n",
              "      <td>108.0</td>\n",
              "      <td>161.5</td>\n",
              "      <td>215.0</td>\n",
              "    </tr>\n",
              "  </tbody>\n",
              "</table>\n",
              "</div>"
            ],
            "text/plain": [
              "      count   mean        std  min   25%    50%    75%    max\n",
              "Rank  215.0  108.0  62.209324  1.0  54.5  108.0  161.5  215.0"
            ]
          },
          "metadata": {
            "tags": []
          },
          "execution_count": 113
        }
      ]
    },
    {
      "cell_type": "code",
      "metadata": {
        "id": "D9qjAcG78Z71",
        "colab_type": "code",
        "colab": {}
      },
      "source": [
        "### Renaming columns of Data frame\n"
      ],
      "execution_count": 114,
      "outputs": []
    },
    {
      "cell_type": "code",
      "metadata": {
        "id": "GGstVCNaMcql",
        "colab_type": "code",
        "colab": {
          "base_uri": "https://localhost:8080/",
          "height": 204
        },
        "outputId": "fe597374-3145-4e81-eed2-f5e65299b9c6"
      },
      "source": [
        "df.head()"
      ],
      "execution_count": 115,
      "outputs": [
        {
          "output_type": "execute_result",
          "data": {
            "text/html": [
              "<div>\n",
              "<style scoped>\n",
              "    .dataframe tbody tr th:only-of-type {\n",
              "        vertical-align: middle;\n",
              "    }\n",
              "\n",
              "    .dataframe tbody tr th {\n",
              "        vertical-align: top;\n",
              "    }\n",
              "\n",
              "    .dataframe thead th {\n",
              "        text-align: right;\n",
              "    }\n",
              "</style>\n",
              "<table border=\"1\" class=\"dataframe\">\n",
              "  <thead>\n",
              "    <tr style=\"text-align: right;\">\n",
              "      <th></th>\n",
              "      <th>Country or Area</th>\n",
              "      <th>Internet Users</th>\n",
              "      <th>Population</th>\n",
              "      <th>Rank</th>\n",
              "      <th>Percentage</th>\n",
              "      <th>Rank.1</th>\n",
              "    </tr>\n",
              "  </thead>\n",
              "  <tbody>\n",
              "    <tr>\n",
              "      <th>0</th>\n",
              "      <td>China</td>\n",
              "      <td>765,367,947</td>\n",
              "      <td>1,409,517,397</td>\n",
              "      <td>1</td>\n",
              "      <td>54.30%</td>\n",
              "      <td>116</td>\n",
              "    </tr>\n",
              "    <tr>\n",
              "      <th>1</th>\n",
              "      <td>India</td>\n",
              "      <td>461,347,554</td>\n",
              "      <td>1,339,180,127</td>\n",
              "      <td>2</td>\n",
              "      <td>34.45%</td>\n",
              "      <td>145</td>\n",
              "    </tr>\n",
              "    <tr>\n",
              "      <th>2</th>\n",
              "      <td>United States</td>\n",
              "      <td>244,090,854</td>\n",
              "      <td>324,459,463</td>\n",
              "      <td>3</td>\n",
              "      <td>75.23%</td>\n",
              "      <td>68</td>\n",
              "    </tr>\n",
              "    <tr>\n",
              "      <th>3</th>\n",
              "      <td>Brazil</td>\n",
              "      <td>141,206,801</td>\n",
              "      <td>209,288,278</td>\n",
              "      <td>4</td>\n",
              "      <td>67.47%</td>\n",
              "      <td>83</td>\n",
              "    </tr>\n",
              "    <tr>\n",
              "      <th>4</th>\n",
              "      <td>Japan</td>\n",
              "      <td>115,845,120</td>\n",
              "      <td>127,484,450</td>\n",
              "      <td>5</td>\n",
              "      <td>90.87%</td>\n",
              "      <td>23</td>\n",
              "    </tr>\n",
              "  </tbody>\n",
              "</table>\n",
              "</div>"
            ],
            "text/plain": [
              "  Country or Area Internet Users     Population  Rank Percentage Rank.1\n",
              "0           China    765,367,947  1,409,517,397     1     54.30%    116\n",
              "1           India    461,347,554  1,339,180,127     2     34.45%    145\n",
              "2   United States    244,090,854    324,459,463     3     75.23%     68\n",
              "3          Brazil    141,206,801    209,288,278     4     67.47%     83\n",
              "4           Japan    115,845,120    127,484,450     5     90.87%     23"
            ]
          },
          "metadata": {
            "tags": []
          },
          "execution_count": 115
        }
      ]
    },
    {
      "cell_type": "code",
      "metadata": {
        "id": "0zs7Wc9YMfrB",
        "colab_type": "code",
        "colab": {
          "base_uri": "https://localhost:8080/",
          "height": 68
        },
        "outputId": "b2e36f2d-70ce-427f-f6de-c9aebcb3d94f"
      },
      "source": [
        "df.columns"
      ],
      "execution_count": 116,
      "outputs": [
        {
          "output_type": "execute_result",
          "data": {
            "text/plain": [
              "Index(['Country or Area', 'Internet Users', 'Population', 'Rank', 'Percentage',\n",
              "       'Rank.1'],\n",
              "      dtype='object')"
            ]
          },
          "metadata": {
            "tags": []
          },
          "execution_count": 116
        }
      ]
    },
    {
      "cell_type": "code",
      "metadata": {
        "id": "MJ0bEw2rMvGg",
        "colab_type": "code",
        "colab": {}
      },
      "source": [
        "## Changing column names\n",
        "df.columns = ['Country', 'Internet_Users', 'Population', 'Population_Rank', 'Percentage',\n",
        "       'User_Rank']"
      ],
      "execution_count": 117,
      "outputs": []
    },
    {
      "cell_type": "code",
      "metadata": {
        "id": "Aan064hHOH4_",
        "colab_type": "code",
        "colab": {
          "base_uri": "https://localhost:8080/",
          "height": 204
        },
        "outputId": "f218c8c2-f1b9-4397-d3d1-fcb6aba4d12d"
      },
      "source": [
        "df.head()"
      ],
      "execution_count": 118,
      "outputs": [
        {
          "output_type": "execute_result",
          "data": {
            "text/html": [
              "<div>\n",
              "<style scoped>\n",
              "    .dataframe tbody tr th:only-of-type {\n",
              "        vertical-align: middle;\n",
              "    }\n",
              "\n",
              "    .dataframe tbody tr th {\n",
              "        vertical-align: top;\n",
              "    }\n",
              "\n",
              "    .dataframe thead th {\n",
              "        text-align: right;\n",
              "    }\n",
              "</style>\n",
              "<table border=\"1\" class=\"dataframe\">\n",
              "  <thead>\n",
              "    <tr style=\"text-align: right;\">\n",
              "      <th></th>\n",
              "      <th>Country</th>\n",
              "      <th>Internet_Users</th>\n",
              "      <th>Population</th>\n",
              "      <th>Population_Rank</th>\n",
              "      <th>Percentage</th>\n",
              "      <th>User_Rank</th>\n",
              "    </tr>\n",
              "  </thead>\n",
              "  <tbody>\n",
              "    <tr>\n",
              "      <th>0</th>\n",
              "      <td>China</td>\n",
              "      <td>765,367,947</td>\n",
              "      <td>1,409,517,397</td>\n",
              "      <td>1</td>\n",
              "      <td>54.30%</td>\n",
              "      <td>116</td>\n",
              "    </tr>\n",
              "    <tr>\n",
              "      <th>1</th>\n",
              "      <td>India</td>\n",
              "      <td>461,347,554</td>\n",
              "      <td>1,339,180,127</td>\n",
              "      <td>2</td>\n",
              "      <td>34.45%</td>\n",
              "      <td>145</td>\n",
              "    </tr>\n",
              "    <tr>\n",
              "      <th>2</th>\n",
              "      <td>United States</td>\n",
              "      <td>244,090,854</td>\n",
              "      <td>324,459,463</td>\n",
              "      <td>3</td>\n",
              "      <td>75.23%</td>\n",
              "      <td>68</td>\n",
              "    </tr>\n",
              "    <tr>\n",
              "      <th>3</th>\n",
              "      <td>Brazil</td>\n",
              "      <td>141,206,801</td>\n",
              "      <td>209,288,278</td>\n",
              "      <td>4</td>\n",
              "      <td>67.47%</td>\n",
              "      <td>83</td>\n",
              "    </tr>\n",
              "    <tr>\n",
              "      <th>4</th>\n",
              "      <td>Japan</td>\n",
              "      <td>115,845,120</td>\n",
              "      <td>127,484,450</td>\n",
              "      <td>5</td>\n",
              "      <td>90.87%</td>\n",
              "      <td>23</td>\n",
              "    </tr>\n",
              "  </tbody>\n",
              "</table>\n",
              "</div>"
            ],
            "text/plain": [
              "         Country Internet_Users  ... Percentage  User_Rank\n",
              "0          China    765,367,947  ...     54.30%        116\n",
              "1          India    461,347,554  ...     34.45%        145\n",
              "2  United States    244,090,854  ...     75.23%         68\n",
              "3         Brazil    141,206,801  ...     67.47%         83\n",
              "4          Japan    115,845,120  ...     90.87%         23\n",
              "\n",
              "[5 rows x 6 columns]"
            ]
          },
          "metadata": {
            "tags": []
          },
          "execution_count": 118
        }
      ]
    },
    {
      "cell_type": "code",
      "metadata": {
        "id": "ZsO0xuWujqv6",
        "colab_type": "code",
        "colab": {}
      },
      "source": [
        "#---------------------Data Cleaning-------------------------------"
      ],
      "execution_count": 119,
      "outputs": []
    },
    {
      "cell_type": "code",
      "metadata": {
        "id": "kI9_y5qekIPq",
        "colab_type": "code",
        "colab": {}
      },
      "source": [
        "df.Population = df.Population.str.replace(',', '')\n",
        "df.Internet_Users = df.Internet_Users.str.replace(',', '')\n",
        "df.User_Rank = df.User_Rank.str.replace('-', '0')"
      ],
      "execution_count": 120,
      "outputs": []
    },
    {
      "cell_type": "code",
      "metadata": {
        "id": "V2MTurl1isUw",
        "colab_type": "code",
        "colab": {}
      },
      "source": [
        "#Change Data type\n",
        "df[\"Population\"] = df[\"Population\"].astype(str).astype(int)\n",
        "df[\"Internet_Users\"] = df[\"Internet_Users\"].astype(str).astype(int)\n",
        "df[\"User_Rank\"] = df[\"User_Rank\"].astype(str).astype(int)"
      ],
      "execution_count": 121,
      "outputs": []
    },
    {
      "cell_type": "code",
      "metadata": {
        "id": "RmYgnU3gn4Y3",
        "colab_type": "code",
        "colab": {
          "base_uri": "https://localhost:8080/",
          "height": 136
        },
        "outputId": "4ee29164-1e2c-4b1b-88ff-90beab3dce16"
      },
      "source": [
        "df.dtypes"
      ],
      "execution_count": 122,
      "outputs": [
        {
          "output_type": "execute_result",
          "data": {
            "text/plain": [
              "Country            object\n",
              "Internet_Users      int64\n",
              "Population          int64\n",
              "Population_Rank     int64\n",
              "Percentage         object\n",
              "User_Rank           int64\n",
              "dtype: object"
            ]
          },
          "metadata": {
            "tags": []
          },
          "execution_count": 122
        }
      ]
    },
    {
      "cell_type": "code",
      "metadata": {
        "id": "LpOfPyuOOXLT",
        "colab_type": "code",
        "colab": {}
      },
      "source": [
        "###Subsetting dataframes in Pandas"
      ],
      "execution_count": 123,
      "outputs": []
    },
    {
      "cell_type": "code",
      "metadata": {
        "id": "nzabQYWbO9KR",
        "colab_type": "code",
        "colab": {}
      },
      "source": [
        "#Three Parts\n",
        "# -Rows\n",
        "# -Columns\n",
        "# Combine the two "
      ],
      "execution_count": 124,
      "outputs": []
    },
    {
      "cell_type": "code",
      "metadata": {
        "id": "uD7UGCKtPRTA",
        "colab_type": "code",
        "colab": {
          "base_uri": "https://localhost:8080/",
          "height": 204
        },
        "outputId": "3cb97028-7f6d-490c-a97b-07a1cafe6755"
      },
      "source": [
        "#Part 1. Rows\n",
        "df[21:26]"
      ],
      "execution_count": 125,
      "outputs": [
        {
          "output_type": "execute_result",
          "data": {
            "text/html": [
              "<div>\n",
              "<style scoped>\n",
              "    .dataframe tbody tr th:only-of-type {\n",
              "        vertical-align: middle;\n",
              "    }\n",
              "\n",
              "    .dataframe tbody tr th {\n",
              "        vertical-align: top;\n",
              "    }\n",
              "\n",
              "    .dataframe thead th {\n",
              "        text-align: right;\n",
              "    }\n",
              "</style>\n",
              "<table border=\"1\" class=\"dataframe\">\n",
              "  <thead>\n",
              "    <tr style=\"text-align: right;\">\n",
              "      <th></th>\n",
              "      <th>Country</th>\n",
              "      <th>Internet_Users</th>\n",
              "      <th>Population</th>\n",
              "      <th>Population_Rank</th>\n",
              "      <th>Percentage</th>\n",
              "      <th>User_Rank</th>\n",
              "    </tr>\n",
              "  </thead>\n",
              "  <tbody>\n",
              "    <tr>\n",
              "      <th>21</th>\n",
              "      <td>Canada</td>\n",
              "      <td>33950632</td>\n",
              "      <td>36624199</td>\n",
              "      <td>22</td>\n",
              "      <td>92.70%</td>\n",
              "      <td>22</td>\n",
              "    </tr>\n",
              "    <tr>\n",
              "      <th>22</th>\n",
              "      <td>Argentina</td>\n",
              "      <td>33561876</td>\n",
              "      <td>44271041</td>\n",
              "      <td>23</td>\n",
              "      <td>75.81%</td>\n",
              "      <td>67</td>\n",
              "    </tr>\n",
              "    <tr>\n",
              "      <th>23</th>\n",
              "      <td>South Africa</td>\n",
              "      <td>31858027</td>\n",
              "      <td>56717156</td>\n",
              "      <td>24</td>\n",
              "      <td>56.17%</td>\n",
              "      <td>111</td>\n",
              "    </tr>\n",
              "    <tr>\n",
              "      <th>24</th>\n",
              "      <td>Nigeria</td>\n",
              "      <td>30557175</td>\n",
              "      <td>190015955</td>\n",
              "      <td>12</td>\n",
              "      <td>27.51%</td>\n",
              "      <td>161</td>\n",
              "    </tr>\n",
              "    <tr>\n",
              "      <th>25</th>\n",
              "      <td>Colombia</td>\n",
              "      <td>30548252</td>\n",
              "      <td>49065615</td>\n",
              "      <td>26</td>\n",
              "      <td>62.26%</td>\n",
              "      <td>96</td>\n",
              "    </tr>\n",
              "  </tbody>\n",
              "</table>\n",
              "</div>"
            ],
            "text/plain": [
              "         Country  Internet_Users  ...  Percentage  User_Rank\n",
              "21        Canada        33950632  ...      92.70%         22\n",
              "22     Argentina        33561876  ...      75.81%         67\n",
              "23  South Africa        31858027  ...      56.17%        111\n",
              "24       Nigeria        30557175  ...      27.51%        161\n",
              "25      Colombia        30548252  ...      62.26%         96\n",
              "\n",
              "[5 rows x 6 columns]"
            ]
          },
          "metadata": {
            "tags": []
          },
          "execution_count": 125
        }
      ]
    },
    {
      "cell_type": "code",
      "metadata": {
        "id": "yBFVzKjxPb2A",
        "colab_type": "code",
        "colab": {
          "base_uri": "https://localhost:8080/",
          "height": 204
        },
        "outputId": "b75ce27d-1a34-47a7-8e1c-52ae1fe062bb"
      },
      "source": [
        "#From 210 to the end\n",
        "df[210:]"
      ],
      "execution_count": 126,
      "outputs": [
        {
          "output_type": "execute_result",
          "data": {
            "text/html": [
              "<div>\n",
              "<style scoped>\n",
              "    .dataframe tbody tr th:only-of-type {\n",
              "        vertical-align: middle;\n",
              "    }\n",
              "\n",
              "    .dataframe tbody tr th {\n",
              "        vertical-align: top;\n",
              "    }\n",
              "\n",
              "    .dataframe thead th {\n",
              "        text-align: right;\n",
              "    }\n",
              "</style>\n",
              "<table border=\"1\" class=\"dataframe\">\n",
              "  <thead>\n",
              "    <tr style=\"text-align: right;\">\n",
              "      <th></th>\n",
              "      <th>Country</th>\n",
              "      <th>Internet_Users</th>\n",
              "      <th>Population</th>\n",
              "      <th>Population_Rank</th>\n",
              "      <th>Percentage</th>\n",
              "      <th>User_Rank</th>\n",
              "    </tr>\n",
              "  </thead>\n",
              "  <tbody>\n",
              "    <tr>\n",
              "      <th>210</th>\n",
              "      <td>Falkland Islands</td>\n",
              "      <td>2881</td>\n",
              "      <td>2910</td>\n",
              "      <td>211</td>\n",
              "      <td>99.02% (2016)</td>\n",
              "      <td>0</td>\n",
              "    </tr>\n",
              "    <tr>\n",
              "      <th>211</th>\n",
              "      <td>Montserrat</td>\n",
              "      <td>2833</td>\n",
              "      <td>5177</td>\n",
              "      <td>212</td>\n",
              "      <td>54.55% (2013)</td>\n",
              "      <td>115</td>\n",
              "    </tr>\n",
              "    <tr>\n",
              "      <th>212</th>\n",
              "      <td>Wallis and Futuna</td>\n",
              "      <td>1383</td>\n",
              "      <td>11773</td>\n",
              "      <td>213</td>\n",
              "      <td>8.95% (2012)</td>\n",
              "      <td>0</td>\n",
              "    </tr>\n",
              "    <tr>\n",
              "      <th>213</th>\n",
              "      <td>Niue</td>\n",
              "      <td>1034</td>\n",
              "      <td>1618</td>\n",
              "      <td>214</td>\n",
              "      <td>86.90% (2013)</td>\n",
              "      <td>30</td>\n",
              "    </tr>\n",
              "    <tr>\n",
              "      <th>214</th>\n",
              "      <td>Ascension</td>\n",
              "      <td>361</td>\n",
              "      <td>806</td>\n",
              "      <td>215</td>\n",
              "      <td>41.03% (2012)</td>\n",
              "      <td>0</td>\n",
              "    </tr>\n",
              "  </tbody>\n",
              "</table>\n",
              "</div>"
            ],
            "text/plain": [
              "               Country  Internet_Users  ...     Percentage  User_Rank\n",
              "210   Falkland Islands            2881  ...  99.02% (2016)          0\n",
              "211         Montserrat            2833  ...  54.55% (2013)        115\n",
              "212  Wallis and Futuna            1383  ...   8.95% (2012)          0\n",
              "213               Niue            1034  ...  86.90% (2013)         30\n",
              "214          Ascension             361  ...  41.03% (2012)          0\n",
              "\n",
              "[5 rows x 6 columns]"
            ]
          },
          "metadata": {
            "tags": []
          },
          "execution_count": 126
        }
      ]
    },
    {
      "cell_type": "code",
      "metadata": {
        "id": "EUNQoCxHQUpP",
        "colab_type": "code",
        "colab": {
          "base_uri": "https://localhost:8080/",
          "height": 419
        },
        "outputId": "c55f6f22-117f-4f39-a307-4be08126135f"
      },
      "source": [
        "#Reverse the dataframe (view)\n",
        "df[: : -1]   ## to reverse the dataframe phsically \"stats = stats[: : -1]\""
      ],
      "execution_count": 127,
      "outputs": [
        {
          "output_type": "execute_result",
          "data": {
            "text/html": [
              "<div>\n",
              "<style scoped>\n",
              "    .dataframe tbody tr th:only-of-type {\n",
              "        vertical-align: middle;\n",
              "    }\n",
              "\n",
              "    .dataframe tbody tr th {\n",
              "        vertical-align: top;\n",
              "    }\n",
              "\n",
              "    .dataframe thead th {\n",
              "        text-align: right;\n",
              "    }\n",
              "</style>\n",
              "<table border=\"1\" class=\"dataframe\">\n",
              "  <thead>\n",
              "    <tr style=\"text-align: right;\">\n",
              "      <th></th>\n",
              "      <th>Country</th>\n",
              "      <th>Internet_Users</th>\n",
              "      <th>Population</th>\n",
              "      <th>Population_Rank</th>\n",
              "      <th>Percentage</th>\n",
              "      <th>User_Rank</th>\n",
              "    </tr>\n",
              "  </thead>\n",
              "  <tbody>\n",
              "    <tr>\n",
              "      <th>214</th>\n",
              "      <td>Ascension</td>\n",
              "      <td>361</td>\n",
              "      <td>806</td>\n",
              "      <td>215</td>\n",
              "      <td>41.03% (2012)</td>\n",
              "      <td>0</td>\n",
              "    </tr>\n",
              "    <tr>\n",
              "      <th>213</th>\n",
              "      <td>Niue</td>\n",
              "      <td>1034</td>\n",
              "      <td>1618</td>\n",
              "      <td>214</td>\n",
              "      <td>86.90% (2013)</td>\n",
              "      <td>30</td>\n",
              "    </tr>\n",
              "    <tr>\n",
              "      <th>212</th>\n",
              "      <td>Wallis and Futuna</td>\n",
              "      <td>1383</td>\n",
              "      <td>11773</td>\n",
              "      <td>213</td>\n",
              "      <td>8.95% (2012)</td>\n",
              "      <td>0</td>\n",
              "    </tr>\n",
              "    <tr>\n",
              "      <th>211</th>\n",
              "      <td>Montserrat</td>\n",
              "      <td>2833</td>\n",
              "      <td>5177</td>\n",
              "      <td>212</td>\n",
              "      <td>54.55% (2013)</td>\n",
              "      <td>115</td>\n",
              "    </tr>\n",
              "    <tr>\n",
              "      <th>210</th>\n",
              "      <td>Falkland Islands</td>\n",
              "      <td>2881</td>\n",
              "      <td>2910</td>\n",
              "      <td>211</td>\n",
              "      <td>99.02% (2016)</td>\n",
              "      <td>0</td>\n",
              "    </tr>\n",
              "    <tr>\n",
              "      <th>...</th>\n",
              "      <td>...</td>\n",
              "      <td>...</td>\n",
              "      <td>...</td>\n",
              "      <td>...</td>\n",
              "      <td>...</td>\n",
              "      <td>...</td>\n",
              "    </tr>\n",
              "    <tr>\n",
              "      <th>4</th>\n",
              "      <td>Japan</td>\n",
              "      <td>115845120</td>\n",
              "      <td>127484450</td>\n",
              "      <td>5</td>\n",
              "      <td>90.87%</td>\n",
              "      <td>23</td>\n",
              "    </tr>\n",
              "    <tr>\n",
              "      <th>3</th>\n",
              "      <td>Brazil</td>\n",
              "      <td>141206801</td>\n",
              "      <td>209288278</td>\n",
              "      <td>4</td>\n",
              "      <td>67.47%</td>\n",
              "      <td>83</td>\n",
              "    </tr>\n",
              "    <tr>\n",
              "      <th>2</th>\n",
              "      <td>United States</td>\n",
              "      <td>244090854</td>\n",
              "      <td>324459463</td>\n",
              "      <td>3</td>\n",
              "      <td>75.23%</td>\n",
              "      <td>68</td>\n",
              "    </tr>\n",
              "    <tr>\n",
              "      <th>1</th>\n",
              "      <td>India</td>\n",
              "      <td>461347554</td>\n",
              "      <td>1339180127</td>\n",
              "      <td>2</td>\n",
              "      <td>34.45%</td>\n",
              "      <td>145</td>\n",
              "    </tr>\n",
              "    <tr>\n",
              "      <th>0</th>\n",
              "      <td>China</td>\n",
              "      <td>765367947</td>\n",
              "      <td>1409517397</td>\n",
              "      <td>1</td>\n",
              "      <td>54.30%</td>\n",
              "      <td>116</td>\n",
              "    </tr>\n",
              "  </tbody>\n",
              "</table>\n",
              "<p>215 rows × 6 columns</p>\n",
              "</div>"
            ],
            "text/plain": [
              "               Country  Internet_Users  ...     Percentage  User_Rank\n",
              "214          Ascension             361  ...  41.03% (2012)          0\n",
              "213               Niue            1034  ...  86.90% (2013)         30\n",
              "212  Wallis and Futuna            1383  ...   8.95% (2012)          0\n",
              "211         Montserrat            2833  ...  54.55% (2013)        115\n",
              "210   Falkland Islands            2881  ...  99.02% (2016)          0\n",
              "..                 ...             ...  ...            ...        ...\n",
              "4                Japan       115845120  ...         90.87%         23\n",
              "3               Brazil       141206801  ...         67.47%         83\n",
              "2        United States       244090854  ...         75.23%         68\n",
              "1                India       461347554  ...         34.45%        145\n",
              "0                China       765367947  ...         54.30%        116\n",
              "\n",
              "[215 rows x 6 columns]"
            ]
          },
          "metadata": {
            "tags": []
          },
          "execution_count": 127
        }
      ]
    },
    {
      "cell_type": "code",
      "metadata": {
        "id": "XWNeF6mWQj70",
        "colab_type": "code",
        "colab": {
          "base_uri": "https://localhost:8080/",
          "height": 390
        },
        "outputId": "ea6bbd06-4ddb-4a5e-c1e7-6b0b252296d6"
      },
      "source": [
        "#Gets only every 20 row\n",
        "df[: : 20]"
      ],
      "execution_count": 128,
      "outputs": [
        {
          "output_type": "execute_result",
          "data": {
            "text/html": [
              "<div>\n",
              "<style scoped>\n",
              "    .dataframe tbody tr th:only-of-type {\n",
              "        vertical-align: middle;\n",
              "    }\n",
              "\n",
              "    .dataframe tbody tr th {\n",
              "        vertical-align: top;\n",
              "    }\n",
              "\n",
              "    .dataframe thead th {\n",
              "        text-align: right;\n",
              "    }\n",
              "</style>\n",
              "<table border=\"1\" class=\"dataframe\">\n",
              "  <thead>\n",
              "    <tr style=\"text-align: right;\">\n",
              "      <th></th>\n",
              "      <th>Country</th>\n",
              "      <th>Internet_Users</th>\n",
              "      <th>Population</th>\n",
              "      <th>Population_Rank</th>\n",
              "      <th>Percentage</th>\n",
              "      <th>User_Rank</th>\n",
              "    </tr>\n",
              "  </thead>\n",
              "  <tbody>\n",
              "    <tr>\n",
              "      <th>0</th>\n",
              "      <td>China</td>\n",
              "      <td>765367947</td>\n",
              "      <td>1409517397</td>\n",
              "      <td>1</td>\n",
              "      <td>54.30%</td>\n",
              "      <td>116</td>\n",
              "    </tr>\n",
              "    <tr>\n",
              "      <th>20</th>\n",
              "      <td>Italy</td>\n",
              "      <td>36387619</td>\n",
              "      <td>59359900</td>\n",
              "      <td>21</td>\n",
              "      <td>61.30%</td>\n",
              "      <td>98</td>\n",
              "    </tr>\n",
              "    <tr>\n",
              "      <th>40</th>\n",
              "      <td>Netherlands</td>\n",
              "      <td>15877494</td>\n",
              "      <td>17035938</td>\n",
              "      <td>41</td>\n",
              "      <td>93.20%</td>\n",
              "      <td>20</td>\n",
              "    </tr>\n",
              "    <tr>\n",
              "      <th>60</th>\n",
              "      <td>Portugal</td>\n",
              "      <td>7622142</td>\n",
              "      <td>10329506</td>\n",
              "      <td>61</td>\n",
              "      <td>73.79%</td>\n",
              "      <td>70</td>\n",
              "    </tr>\n",
              "    <tr>\n",
              "      <th>80</th>\n",
              "      <td>Norway</td>\n",
              "      <td>5120225</td>\n",
              "      <td>5305383</td>\n",
              "      <td>81</td>\n",
              "      <td>96.51%</td>\n",
              "      <td>11</td>\n",
              "    </tr>\n",
              "    <tr>\n",
              "      <th>100</th>\n",
              "      <td>Burkina Faso</td>\n",
              "      <td>3047909</td>\n",
              "      <td>19193382</td>\n",
              "      <td>101</td>\n",
              "      <td>15.88%</td>\n",
              "      <td>183</td>\n",
              "    </tr>\n",
              "    <tr>\n",
              "      <th>120</th>\n",
              "      <td>Laos</td>\n",
              "      <td>1749517</td>\n",
              "      <td>6858160</td>\n",
              "      <td>121</td>\n",
              "      <td>25.51%</td>\n",
              "      <td>167</td>\n",
              "    </tr>\n",
              "    <tr>\n",
              "      <th>140</th>\n",
              "      <td>Botswana</td>\n",
              "      <td>948977</td>\n",
              "      <td>2291661</td>\n",
              "      <td>141</td>\n",
              "      <td>41.41%</td>\n",
              "      <td>135</td>\n",
              "    </tr>\n",
              "    <tr>\n",
              "      <th>160</th>\n",
              "      <td>Malta</td>\n",
              "      <td>344970</td>\n",
              "      <td>430835</td>\n",
              "      <td>161</td>\n",
              "      <td>80.07%</td>\n",
              "      <td>53</td>\n",
              "    </tr>\n",
              "    <tr>\n",
              "      <th>180</th>\n",
              "      <td>Solomon Islands</td>\n",
              "      <td>72872</td>\n",
              "      <td>611343</td>\n",
              "      <td>181</td>\n",
              "      <td>11.92%</td>\n",
              "      <td>193</td>\n",
              "    </tr>\n",
              "    <tr>\n",
              "      <th>200</th>\n",
              "      <td>Liechtenstein</td>\n",
              "      <td>37201</td>\n",
              "      <td>37922</td>\n",
              "      <td>201</td>\n",
              "      <td>98.10%</td>\n",
              "      <td>4</td>\n",
              "    </tr>\n",
              "  </tbody>\n",
              "</table>\n",
              "</div>"
            ],
            "text/plain": [
              "             Country  Internet_Users  ...  Percentage  User_Rank\n",
              "0              China       765367947  ...      54.30%        116\n",
              "20             Italy        36387619  ...      61.30%         98\n",
              "40       Netherlands        15877494  ...      93.20%         20\n",
              "60          Portugal         7622142  ...      73.79%         70\n",
              "80            Norway         5120225  ...      96.51%         11\n",
              "100     Burkina Faso         3047909  ...      15.88%        183\n",
              "120             Laos         1749517  ...      25.51%        167\n",
              "140         Botswana          948977  ...      41.41%        135\n",
              "160            Malta          344970  ...      80.07%         53\n",
              "180  Solomon Islands           72872  ...      11.92%        193\n",
              "200    Liechtenstein           37201  ...      98.10%          4\n",
              "\n",
              "[11 rows x 6 columns]"
            ]
          },
          "metadata": {
            "tags": []
          },
          "execution_count": 128
        }
      ]
    },
    {
      "cell_type": "code",
      "metadata": {
        "id": "0BqJ1E4PRLla",
        "colab_type": "code",
        "colab": {
          "base_uri": "https://localhost:8080/",
          "height": 221
        },
        "outputId": "ff633f3b-7c3b-4add-afbe-c224a065ef92"
      },
      "source": [
        "#Part 2. Columns\n",
        "df['Country']"
      ],
      "execution_count": 129,
      "outputs": [
        {
          "output_type": "execute_result",
          "data": {
            "text/plain": [
              "0                  China\n",
              "1                  India\n",
              "2          United States\n",
              "3                 Brazil\n",
              "4                  Japan\n",
              "             ...        \n",
              "210     Falkland Islands\n",
              "211           Montserrat\n",
              "212    Wallis and Futuna\n",
              "213                 Niue\n",
              "214            Ascension\n",
              "Name: Country, Length: 215, dtype: object"
            ]
          },
          "metadata": {
            "tags": []
          },
          "execution_count": 129
        }
      ]
    },
    {
      "cell_type": "code",
      "metadata": {
        "id": "4IsPh19Uc02G",
        "colab_type": "code",
        "colab": {
          "base_uri": "https://localhost:8080/",
          "height": 359
        },
        "outputId": "bbd8535e-c6a9-4f0f-bf86-fa66b3f7afdc"
      },
      "source": [
        "# Select few rows for multiple columns, [\"Country\", \"Population\", \"Percentage\"]\n",
        "df.loc[:9, [\"Country\", \"Population\", \"Percentage\"]]"
      ],
      "execution_count": 130,
      "outputs": [
        {
          "output_type": "execute_result",
          "data": {
            "text/html": [
              "<div>\n",
              "<style scoped>\n",
              "    .dataframe tbody tr th:only-of-type {\n",
              "        vertical-align: middle;\n",
              "    }\n",
              "\n",
              "    .dataframe tbody tr th {\n",
              "        vertical-align: top;\n",
              "    }\n",
              "\n",
              "    .dataframe thead th {\n",
              "        text-align: right;\n",
              "    }\n",
              "</style>\n",
              "<table border=\"1\" class=\"dataframe\">\n",
              "  <thead>\n",
              "    <tr style=\"text-align: right;\">\n",
              "      <th></th>\n",
              "      <th>Country</th>\n",
              "      <th>Population</th>\n",
              "      <th>Percentage</th>\n",
              "    </tr>\n",
              "  </thead>\n",
              "  <tbody>\n",
              "    <tr>\n",
              "      <th>0</th>\n",
              "      <td>China</td>\n",
              "      <td>1409517397</td>\n",
              "      <td>54.30%</td>\n",
              "    </tr>\n",
              "    <tr>\n",
              "      <th>1</th>\n",
              "      <td>India</td>\n",
              "      <td>1339180127</td>\n",
              "      <td>34.45%</td>\n",
              "    </tr>\n",
              "    <tr>\n",
              "      <th>2</th>\n",
              "      <td>United States</td>\n",
              "      <td>324459463</td>\n",
              "      <td>75.23%</td>\n",
              "    </tr>\n",
              "    <tr>\n",
              "      <th>3</th>\n",
              "      <td>Brazil</td>\n",
              "      <td>209288278</td>\n",
              "      <td>67.47%</td>\n",
              "    </tr>\n",
              "    <tr>\n",
              "      <th>4</th>\n",
              "      <td>Japan</td>\n",
              "      <td>127484450</td>\n",
              "      <td>90.87%</td>\n",
              "    </tr>\n",
              "    <tr>\n",
              "      <th>5</th>\n",
              "      <td>Russia</td>\n",
              "      <td>143989754</td>\n",
              "      <td>76.01%</td>\n",
              "    </tr>\n",
              "    <tr>\n",
              "      <th>6</th>\n",
              "      <td>Indonesia</td>\n",
              "      <td>263991379</td>\n",
              "      <td>32.29%</td>\n",
              "    </tr>\n",
              "    <tr>\n",
              "      <th>7</th>\n",
              "      <td>Mexico</td>\n",
              "      <td>129163276</td>\n",
              "      <td>63.85%</td>\n",
              "    </tr>\n",
              "    <tr>\n",
              "      <th>8</th>\n",
              "      <td>Germany</td>\n",
              "      <td>82114224</td>\n",
              "      <td>84.40%</td>\n",
              "    </tr>\n",
              "    <tr>\n",
              "      <th>9</th>\n",
              "      <td>Philippines</td>\n",
              "      <td>104918090</td>\n",
              "      <td>60.05%</td>\n",
              "    </tr>\n",
              "  </tbody>\n",
              "</table>\n",
              "</div>"
            ],
            "text/plain": [
              "         Country  Population Percentage\n",
              "0          China  1409517397     54.30%\n",
              "1          India  1339180127     34.45%\n",
              "2  United States   324459463     75.23%\n",
              "3         Brazil   209288278     67.47%\n",
              "4          Japan   127484450     90.87%\n",
              "5         Russia   143989754     76.01%\n",
              "6      Indonesia   263991379     32.29%\n",
              "7         Mexico   129163276     63.85%\n",
              "8        Germany    82114224     84.40%\n",
              "9    Philippines   104918090     60.05%"
            ]
          },
          "metadata": {
            "tags": []
          },
          "execution_count": 130
        }
      ]
    },
    {
      "cell_type": "code",
      "metadata": {
        "id": "Cb4ZEI-Jdaeu",
        "colab_type": "code",
        "colab": {
          "base_uri": "https://localhost:8080/",
          "height": 204
        },
        "outputId": "734ae845-c50e-45e3-c54c-ddf737387735"
      },
      "source": [
        "df.loc[10:19:2, [\"Country\", \"Population\", \"Percentage\"]]"
      ],
      "execution_count": 131,
      "outputs": [
        {
          "output_type": "execute_result",
          "data": {
            "text/html": [
              "<div>\n",
              "<style scoped>\n",
              "    .dataframe tbody tr th:only-of-type {\n",
              "        vertical-align: middle;\n",
              "    }\n",
              "\n",
              "    .dataframe tbody tr th {\n",
              "        vertical-align: top;\n",
              "    }\n",
              "\n",
              "    .dataframe thead th {\n",
              "        text-align: right;\n",
              "    }\n",
              "</style>\n",
              "<table border=\"1\" class=\"dataframe\">\n",
              "  <thead>\n",
              "    <tr style=\"text-align: right;\">\n",
              "      <th></th>\n",
              "      <th>Country</th>\n",
              "      <th>Population</th>\n",
              "      <th>Percentage</th>\n",
              "    </tr>\n",
              "  </thead>\n",
              "  <tbody>\n",
              "    <tr>\n",
              "      <th>10</th>\n",
              "      <td>United Kingdom</td>\n",
              "      <td>66181585</td>\n",
              "      <td>94.62%</td>\n",
              "    </tr>\n",
              "    <tr>\n",
              "      <th>12</th>\n",
              "      <td>France</td>\n",
              "      <td>64979548</td>\n",
              "      <td>80.50%</td>\n",
              "    </tr>\n",
              "    <tr>\n",
              "      <th>14</th>\n",
              "      <td>Iran</td>\n",
              "      <td>81162788</td>\n",
              "      <td>60.42%</td>\n",
              "    </tr>\n",
              "    <tr>\n",
              "      <th>16</th>\n",
              "      <td>Vietnam</td>\n",
              "      <td>95540800</td>\n",
              "      <td>49.57%</td>\n",
              "    </tr>\n",
              "    <tr>\n",
              "      <th>18</th>\n",
              "      <td>Spain</td>\n",
              "      <td>46354321</td>\n",
              "      <td>84.60%</td>\n",
              "    </tr>\n",
              "  </tbody>\n",
              "</table>\n",
              "</div>"
            ],
            "text/plain": [
              "           Country  Population Percentage\n",
              "10  United Kingdom    66181585     94.62%\n",
              "12          France    64979548     80.50%\n",
              "14            Iran    81162788     60.42%\n",
              "16         Vietnam    95540800     49.57%\n",
              "18           Spain    46354321     84.60%"
            ]
          },
          "metadata": {
            "tags": []
          },
          "execution_count": 131
        }
      ]
    },
    {
      "cell_type": "code",
      "metadata": {
        "id": "TJwmyQKed7wM",
        "colab_type": "code",
        "colab": {}
      },
      "source": [
        "#.iloc()\n",
        "#.iloc() is integer based slicing, whereas .loc() used labels/column names. Here are some examples:"
      ],
      "execution_count": 132,
      "outputs": []
    },
    {
      "cell_type": "code",
      "metadata": {
        "id": "JFljQPm5eCc3",
        "colab_type": "code",
        "colab": {
          "base_uri": "https://localhost:8080/",
          "height": 173
        },
        "outputId": "96921ff4-fdd2-4cf5-ebd4-dd93d494c8fa"
      },
      "source": [
        "df.iloc[:4]"
      ],
      "execution_count": 133,
      "outputs": [
        {
          "output_type": "execute_result",
          "data": {
            "text/html": [
              "<div>\n",
              "<style scoped>\n",
              "    .dataframe tbody tr th:only-of-type {\n",
              "        vertical-align: middle;\n",
              "    }\n",
              "\n",
              "    .dataframe tbody tr th {\n",
              "        vertical-align: top;\n",
              "    }\n",
              "\n",
              "    .dataframe thead th {\n",
              "        text-align: right;\n",
              "    }\n",
              "</style>\n",
              "<table border=\"1\" class=\"dataframe\">\n",
              "  <thead>\n",
              "    <tr style=\"text-align: right;\">\n",
              "      <th></th>\n",
              "      <th>Country</th>\n",
              "      <th>Internet_Users</th>\n",
              "      <th>Population</th>\n",
              "      <th>Population_Rank</th>\n",
              "      <th>Percentage</th>\n",
              "      <th>User_Rank</th>\n",
              "    </tr>\n",
              "  </thead>\n",
              "  <tbody>\n",
              "    <tr>\n",
              "      <th>0</th>\n",
              "      <td>China</td>\n",
              "      <td>765367947</td>\n",
              "      <td>1409517397</td>\n",
              "      <td>1</td>\n",
              "      <td>54.30%</td>\n",
              "      <td>116</td>\n",
              "    </tr>\n",
              "    <tr>\n",
              "      <th>1</th>\n",
              "      <td>India</td>\n",
              "      <td>461347554</td>\n",
              "      <td>1339180127</td>\n",
              "      <td>2</td>\n",
              "      <td>34.45%</td>\n",
              "      <td>145</td>\n",
              "    </tr>\n",
              "    <tr>\n",
              "      <th>2</th>\n",
              "      <td>United States</td>\n",
              "      <td>244090854</td>\n",
              "      <td>324459463</td>\n",
              "      <td>3</td>\n",
              "      <td>75.23%</td>\n",
              "      <td>68</td>\n",
              "    </tr>\n",
              "    <tr>\n",
              "      <th>3</th>\n",
              "      <td>Brazil</td>\n",
              "      <td>141206801</td>\n",
              "      <td>209288278</td>\n",
              "      <td>4</td>\n",
              "      <td>67.47%</td>\n",
              "      <td>83</td>\n",
              "    </tr>\n",
              "  </tbody>\n",
              "</table>\n",
              "</div>"
            ],
            "text/plain": [
              "         Country  Internet_Users  ...  Percentage  User_Rank\n",
              "0          China       765367947  ...      54.30%        116\n",
              "1          India       461347554  ...      34.45%        145\n",
              "2  United States       244090854  ...      75.23%         68\n",
              "3         Brazil       141206801  ...      67.47%         83\n",
              "\n",
              "[4 rows x 6 columns]"
            ]
          },
          "metadata": {
            "tags": []
          },
          "execution_count": 133
        }
      ]
    },
    {
      "cell_type": "code",
      "metadata": {
        "id": "sCbi-yJwReXh",
        "colab_type": "code",
        "colab": {
          "base_uri": "https://localhost:8080/",
          "height": 221
        },
        "outputId": "dd831a61-c126-41ea-e13c-5ba52ea16a1a"
      },
      "source": [
        "df['Country'].head"
      ],
      "execution_count": 134,
      "outputs": [
        {
          "output_type": "execute_result",
          "data": {
            "text/plain": [
              "<bound method NDFrame.head of 0                  China\n",
              "1                  India\n",
              "2          United States\n",
              "3                 Brazil\n",
              "4                  Japan\n",
              "             ...        \n",
              "210     Falkland Islands\n",
              "211           Montserrat\n",
              "212    Wallis and Futuna\n",
              "213                 Niue\n",
              "214            Ascension\n",
              "Name: Country, Length: 215, dtype: object>"
            ]
          },
          "metadata": {
            "tags": []
          },
          "execution_count": 134
        }
      ]
    },
    {
      "cell_type": "code",
      "metadata": {
        "id": "qINpKazRRzDA",
        "colab_type": "code",
        "colab": {
          "base_uri": "https://localhost:8080/",
          "height": 204
        },
        "outputId": "d1ab5a2d-62f4-4170-dd28-50dacd2cd6fb"
      },
      "source": [
        "df[['Population', 'Country']].head()  ## if you are looking for more then one column"
      ],
      "execution_count": 135,
      "outputs": [
        {
          "output_type": "execute_result",
          "data": {
            "text/html": [
              "<div>\n",
              "<style scoped>\n",
              "    .dataframe tbody tr th:only-of-type {\n",
              "        vertical-align: middle;\n",
              "    }\n",
              "\n",
              "    .dataframe tbody tr th {\n",
              "        vertical-align: top;\n",
              "    }\n",
              "\n",
              "    .dataframe thead th {\n",
              "        text-align: right;\n",
              "    }\n",
              "</style>\n",
              "<table border=\"1\" class=\"dataframe\">\n",
              "  <thead>\n",
              "    <tr style=\"text-align: right;\">\n",
              "      <th></th>\n",
              "      <th>Population</th>\n",
              "      <th>Country</th>\n",
              "    </tr>\n",
              "  </thead>\n",
              "  <tbody>\n",
              "    <tr>\n",
              "      <th>0</th>\n",
              "      <td>1409517397</td>\n",
              "      <td>China</td>\n",
              "    </tr>\n",
              "    <tr>\n",
              "      <th>1</th>\n",
              "      <td>1339180127</td>\n",
              "      <td>India</td>\n",
              "    </tr>\n",
              "    <tr>\n",
              "      <th>2</th>\n",
              "      <td>324459463</td>\n",
              "      <td>United States</td>\n",
              "    </tr>\n",
              "    <tr>\n",
              "      <th>3</th>\n",
              "      <td>209288278</td>\n",
              "      <td>Brazil</td>\n",
              "    </tr>\n",
              "    <tr>\n",
              "      <th>4</th>\n",
              "      <td>127484450</td>\n",
              "      <td>Japan</td>\n",
              "    </tr>\n",
              "  </tbody>\n",
              "</table>\n",
              "</div>"
            ],
            "text/plain": [
              "   Population        Country\n",
              "0  1409517397          China\n",
              "1  1339180127          India\n",
              "2   324459463  United States\n",
              "3   209288278         Brazil\n",
              "4   127484450          Japan"
            ]
          },
          "metadata": {
            "tags": []
          },
          "execution_count": 135
        }
      ]
    },
    {
      "cell_type": "code",
      "metadata": {
        "id": "CP6Ksg-6SvUq",
        "colab_type": "code",
        "colab": {
          "base_uri": "https://localhost:8080/",
          "height": 221
        },
        "outputId": "16d6afe7-ef3a-45c1-aaab-267e0e109c26"
      },
      "source": [
        "df.Country  ## if you are looking for just one column only"
      ],
      "execution_count": 136,
      "outputs": [
        {
          "output_type": "execute_result",
          "data": {
            "text/plain": [
              "0                  China\n",
              "1                  India\n",
              "2          United States\n",
              "3                 Brazil\n",
              "4                  Japan\n",
              "             ...        \n",
              "210     Falkland Islands\n",
              "211           Montserrat\n",
              "212    Wallis and Futuna\n",
              "213                 Niue\n",
              "214            Ascension\n",
              "Name: Country, Length: 215, dtype: object"
            ]
          },
          "metadata": {
            "tags": []
          },
          "execution_count": 136
        }
      ]
    },
    {
      "cell_type": "code",
      "metadata": {
        "id": "DluKYXQkT220",
        "colab_type": "code",
        "colab": {}
      },
      "source": [
        "#Part 3. Combining the two"
      ],
      "execution_count": 137,
      "outputs": []
    },
    {
      "cell_type": "code",
      "metadata": {
        "id": "gMvjVQqkUSbX",
        "colab_type": "code",
        "colab": {
          "base_uri": "https://localhost:8080/",
          "height": 173
        },
        "outputId": "3fc94958-0376-436a-c226-4d718162c1b4"
      },
      "source": [
        "df[4:8][['Country', 'Population']] ## Combine 2 subset"
      ],
      "execution_count": 138,
      "outputs": [
        {
          "output_type": "execute_result",
          "data": {
            "text/html": [
              "<div>\n",
              "<style scoped>\n",
              "    .dataframe tbody tr th:only-of-type {\n",
              "        vertical-align: middle;\n",
              "    }\n",
              "\n",
              "    .dataframe tbody tr th {\n",
              "        vertical-align: top;\n",
              "    }\n",
              "\n",
              "    .dataframe thead th {\n",
              "        text-align: right;\n",
              "    }\n",
              "</style>\n",
              "<table border=\"1\" class=\"dataframe\">\n",
              "  <thead>\n",
              "    <tr style=\"text-align: right;\">\n",
              "      <th></th>\n",
              "      <th>Country</th>\n",
              "      <th>Population</th>\n",
              "    </tr>\n",
              "  </thead>\n",
              "  <tbody>\n",
              "    <tr>\n",
              "      <th>4</th>\n",
              "      <td>Japan</td>\n",
              "      <td>127484450</td>\n",
              "    </tr>\n",
              "    <tr>\n",
              "      <th>5</th>\n",
              "      <td>Russia</td>\n",
              "      <td>143989754</td>\n",
              "    </tr>\n",
              "    <tr>\n",
              "      <th>6</th>\n",
              "      <td>Indonesia</td>\n",
              "      <td>263991379</td>\n",
              "    </tr>\n",
              "    <tr>\n",
              "      <th>7</th>\n",
              "      <td>Mexico</td>\n",
              "      <td>129163276</td>\n",
              "    </tr>\n",
              "  </tbody>\n",
              "</table>\n",
              "</div>"
            ],
            "text/plain": [
              "     Country  Population\n",
              "4      Japan   127484450\n",
              "5     Russia   143989754\n",
              "6  Indonesia   263991379\n",
              "7     Mexico   129163276"
            ]
          },
          "metadata": {
            "tags": []
          },
          "execution_count": 138
        }
      ]
    },
    {
      "cell_type": "code",
      "metadata": {
        "id": "F8E7NlEQVG9_",
        "colab_type": "code",
        "colab": {}
      },
      "source": [
        "### Basic Operations With Dataframe"
      ],
      "execution_count": 139,
      "outputs": []
    },
    {
      "cell_type": "code",
      "metadata": {
        "id": "24NMpRGNVVc1",
        "colab_type": "code",
        "colab": {
          "base_uri": "https://localhost:8080/",
          "height": 204
        },
        "outputId": "c5dfe410-7056-4063-eb34-0a02b005a5bf"
      },
      "source": [
        "#Mathmetical operations\n",
        "result = df.Internet_Users / df.Population *100\n",
        "df.Percentage = result\n",
        "df[\"Percentage\"] = df[\"Percentage\"].astype(str).astype(float)\n",
        "\n",
        "df.head()"
      ],
      "execution_count": 140,
      "outputs": [
        {
          "output_type": "execute_result",
          "data": {
            "text/html": [
              "<div>\n",
              "<style scoped>\n",
              "    .dataframe tbody tr th:only-of-type {\n",
              "        vertical-align: middle;\n",
              "    }\n",
              "\n",
              "    .dataframe tbody tr th {\n",
              "        vertical-align: top;\n",
              "    }\n",
              "\n",
              "    .dataframe thead th {\n",
              "        text-align: right;\n",
              "    }\n",
              "</style>\n",
              "<table border=\"1\" class=\"dataframe\">\n",
              "  <thead>\n",
              "    <tr style=\"text-align: right;\">\n",
              "      <th></th>\n",
              "      <th>Country</th>\n",
              "      <th>Internet_Users</th>\n",
              "      <th>Population</th>\n",
              "      <th>Population_Rank</th>\n",
              "      <th>Percentage</th>\n",
              "      <th>User_Rank</th>\n",
              "    </tr>\n",
              "  </thead>\n",
              "  <tbody>\n",
              "    <tr>\n",
              "      <th>0</th>\n",
              "      <td>China</td>\n",
              "      <td>765367947</td>\n",
              "      <td>1409517397</td>\n",
              "      <td>1</td>\n",
              "      <td>54.30</td>\n",
              "      <td>116</td>\n",
              "    </tr>\n",
              "    <tr>\n",
              "      <th>1</th>\n",
              "      <td>India</td>\n",
              "      <td>461347554</td>\n",
              "      <td>1339180127</td>\n",
              "      <td>2</td>\n",
              "      <td>34.45</td>\n",
              "      <td>145</td>\n",
              "    </tr>\n",
              "    <tr>\n",
              "      <th>2</th>\n",
              "      <td>United States</td>\n",
              "      <td>244090854</td>\n",
              "      <td>324459463</td>\n",
              "      <td>3</td>\n",
              "      <td>75.23</td>\n",
              "      <td>68</td>\n",
              "    </tr>\n",
              "    <tr>\n",
              "      <th>3</th>\n",
              "      <td>Brazil</td>\n",
              "      <td>141206801</td>\n",
              "      <td>209288278</td>\n",
              "      <td>4</td>\n",
              "      <td>67.47</td>\n",
              "      <td>83</td>\n",
              "    </tr>\n",
              "    <tr>\n",
              "      <th>4</th>\n",
              "      <td>Japan</td>\n",
              "      <td>115845120</td>\n",
              "      <td>127484450</td>\n",
              "      <td>5</td>\n",
              "      <td>90.87</td>\n",
              "      <td>23</td>\n",
              "    </tr>\n",
              "  </tbody>\n",
              "</table>\n",
              "</div>"
            ],
            "text/plain": [
              "         Country  Internet_Users  ...  Percentage  User_Rank\n",
              "0          China       765367947  ...       54.30        116\n",
              "1          India       461347554  ...       34.45        145\n",
              "2  United States       244090854  ...       75.23         68\n",
              "3         Brazil       141206801  ...       67.47         83\n",
              "4          Japan       115845120  ...       90.87         23\n",
              "\n",
              "[5 rows x 6 columns]"
            ]
          },
          "metadata": {
            "tags": []
          },
          "execution_count": 140
        }
      ]
    },
    {
      "cell_type": "code",
      "metadata": {
        "id": "so6ZOWqQpWWq",
        "colab_type": "code",
        "colab": {
          "base_uri": "https://localhost:8080/",
          "height": 136
        },
        "outputId": "4ef1ea6b-d7a9-4da6-cc39-3e4daab022ee"
      },
      "source": [
        "df.dtypes"
      ],
      "execution_count": 141,
      "outputs": [
        {
          "output_type": "execute_result",
          "data": {
            "text/plain": [
              "Country             object\n",
              "Internet_Users       int64\n",
              "Population           int64\n",
              "Population_Rank      int64\n",
              "Percentage         float64\n",
              "User_Rank            int64\n",
              "dtype: object"
            ]
          },
          "metadata": {
            "tags": []
          },
          "execution_count": 141
        }
      ]
    },
    {
      "cell_type": "code",
      "metadata": {
        "id": "yCwO0vMiaOii",
        "colab_type": "code",
        "colab": {}
      },
      "source": [
        "#Add Column\n",
        "df['New'] = result"
      ],
      "execution_count": 142,
      "outputs": []
    },
    {
      "cell_type": "code",
      "metadata": {
        "id": "8RKOrsnVb6sa",
        "colab_type": "code",
        "colab": {
          "base_uri": "https://localhost:8080/",
          "height": 204
        },
        "outputId": "7b62906e-38e3-4639-cbad-198f5fb35501"
      },
      "source": [
        "df.head()"
      ],
      "execution_count": 143,
      "outputs": [
        {
          "output_type": "execute_result",
          "data": {
            "text/html": [
              "<div>\n",
              "<style scoped>\n",
              "    .dataframe tbody tr th:only-of-type {\n",
              "        vertical-align: middle;\n",
              "    }\n",
              "\n",
              "    .dataframe tbody tr th {\n",
              "        vertical-align: top;\n",
              "    }\n",
              "\n",
              "    .dataframe thead th {\n",
              "        text-align: right;\n",
              "    }\n",
              "</style>\n",
              "<table border=\"1\" class=\"dataframe\">\n",
              "  <thead>\n",
              "    <tr style=\"text-align: right;\">\n",
              "      <th></th>\n",
              "      <th>Country</th>\n",
              "      <th>Internet_Users</th>\n",
              "      <th>Population</th>\n",
              "      <th>Population_Rank</th>\n",
              "      <th>Percentage</th>\n",
              "      <th>User_Rank</th>\n",
              "      <th>New</th>\n",
              "    </tr>\n",
              "  </thead>\n",
              "  <tbody>\n",
              "    <tr>\n",
              "      <th>0</th>\n",
              "      <td>China</td>\n",
              "      <td>765367947</td>\n",
              "      <td>1409517397</td>\n",
              "      <td>1</td>\n",
              "      <td>54.30</td>\n",
              "      <td>116</td>\n",
              "      <td>54.30</td>\n",
              "    </tr>\n",
              "    <tr>\n",
              "      <th>1</th>\n",
              "      <td>India</td>\n",
              "      <td>461347554</td>\n",
              "      <td>1339180127</td>\n",
              "      <td>2</td>\n",
              "      <td>34.45</td>\n",
              "      <td>145</td>\n",
              "      <td>34.45</td>\n",
              "    </tr>\n",
              "    <tr>\n",
              "      <th>2</th>\n",
              "      <td>United States</td>\n",
              "      <td>244090854</td>\n",
              "      <td>324459463</td>\n",
              "      <td>3</td>\n",
              "      <td>75.23</td>\n",
              "      <td>68</td>\n",
              "      <td>75.23</td>\n",
              "    </tr>\n",
              "    <tr>\n",
              "      <th>3</th>\n",
              "      <td>Brazil</td>\n",
              "      <td>141206801</td>\n",
              "      <td>209288278</td>\n",
              "      <td>4</td>\n",
              "      <td>67.47</td>\n",
              "      <td>83</td>\n",
              "      <td>67.47</td>\n",
              "    </tr>\n",
              "    <tr>\n",
              "      <th>4</th>\n",
              "      <td>Japan</td>\n",
              "      <td>115845120</td>\n",
              "      <td>127484450</td>\n",
              "      <td>5</td>\n",
              "      <td>90.87</td>\n",
              "      <td>23</td>\n",
              "      <td>90.87</td>\n",
              "    </tr>\n",
              "  </tbody>\n",
              "</table>\n",
              "</div>"
            ],
            "text/plain": [
              "         Country  Internet_Users  Population  ...  Percentage  User_Rank    New\n",
              "0          China       765367947  1409517397  ...       54.30        116  54.30\n",
              "1          India       461347554  1339180127  ...       34.45        145  34.45\n",
              "2  United States       244090854   324459463  ...       75.23         68  75.23\n",
              "3         Brazil       141206801   209288278  ...       67.47         83  67.47\n",
              "4          Japan       115845120   127484450  ...       90.87         23  90.87\n",
              "\n",
              "[5 rows x 7 columns]"
            ]
          },
          "metadata": {
            "tags": []
          },
          "execution_count": 143
        }
      ]
    },
    {
      "cell_type": "code",
      "metadata": {
        "id": "PnX9P6jjcD6O",
        "colab_type": "code",
        "colab": {}
      },
      "source": [
        "#Remove a Column\n",
        "df = df.drop('New',1)"
      ],
      "execution_count": 144,
      "outputs": []
    },
    {
      "cell_type": "code",
      "metadata": {
        "id": "6riWl6mMdOTk",
        "colab_type": "code",
        "colab": {
          "base_uri": "https://localhost:8080/",
          "height": 204
        },
        "outputId": "d5c0b0a0-d703-4080-929c-b005e3aabe59"
      },
      "source": [
        "df.head()"
      ],
      "execution_count": 145,
      "outputs": [
        {
          "output_type": "execute_result",
          "data": {
            "text/html": [
              "<div>\n",
              "<style scoped>\n",
              "    .dataframe tbody tr th:only-of-type {\n",
              "        vertical-align: middle;\n",
              "    }\n",
              "\n",
              "    .dataframe tbody tr th {\n",
              "        vertical-align: top;\n",
              "    }\n",
              "\n",
              "    .dataframe thead th {\n",
              "        text-align: right;\n",
              "    }\n",
              "</style>\n",
              "<table border=\"1\" class=\"dataframe\">\n",
              "  <thead>\n",
              "    <tr style=\"text-align: right;\">\n",
              "      <th></th>\n",
              "      <th>Country</th>\n",
              "      <th>Internet_Users</th>\n",
              "      <th>Population</th>\n",
              "      <th>Population_Rank</th>\n",
              "      <th>Percentage</th>\n",
              "      <th>User_Rank</th>\n",
              "    </tr>\n",
              "  </thead>\n",
              "  <tbody>\n",
              "    <tr>\n",
              "      <th>0</th>\n",
              "      <td>China</td>\n",
              "      <td>765367947</td>\n",
              "      <td>1409517397</td>\n",
              "      <td>1</td>\n",
              "      <td>54.30</td>\n",
              "      <td>116</td>\n",
              "    </tr>\n",
              "    <tr>\n",
              "      <th>1</th>\n",
              "      <td>India</td>\n",
              "      <td>461347554</td>\n",
              "      <td>1339180127</td>\n",
              "      <td>2</td>\n",
              "      <td>34.45</td>\n",
              "      <td>145</td>\n",
              "    </tr>\n",
              "    <tr>\n",
              "      <th>2</th>\n",
              "      <td>United States</td>\n",
              "      <td>244090854</td>\n",
              "      <td>324459463</td>\n",
              "      <td>3</td>\n",
              "      <td>75.23</td>\n",
              "      <td>68</td>\n",
              "    </tr>\n",
              "    <tr>\n",
              "      <th>3</th>\n",
              "      <td>Brazil</td>\n",
              "      <td>141206801</td>\n",
              "      <td>209288278</td>\n",
              "      <td>4</td>\n",
              "      <td>67.47</td>\n",
              "      <td>83</td>\n",
              "    </tr>\n",
              "    <tr>\n",
              "      <th>4</th>\n",
              "      <td>Japan</td>\n",
              "      <td>115845120</td>\n",
              "      <td>127484450</td>\n",
              "      <td>5</td>\n",
              "      <td>90.87</td>\n",
              "      <td>23</td>\n",
              "    </tr>\n",
              "  </tbody>\n",
              "</table>\n",
              "</div>"
            ],
            "text/plain": [
              "         Country  Internet_Users  ...  Percentage  User_Rank\n",
              "0          China       765367947  ...       54.30        116\n",
              "1          India       461347554  ...       34.45        145\n",
              "2  United States       244090854  ...       75.23         68\n",
              "3         Brazil       141206801  ...       67.47         83\n",
              "4          Japan       115845120  ...       90.87         23\n",
              "\n",
              "[5 rows x 6 columns]"
            ]
          },
          "metadata": {
            "tags": []
          },
          "execution_count": 145
        }
      ]
    },
    {
      "cell_type": "code",
      "metadata": {
        "id": "tXPDHAOMdShb",
        "colab_type": "code",
        "colab": {}
      },
      "source": [
        "### Filtering Data Frames"
      ],
      "execution_count": 146,
      "outputs": []
    },
    {
      "cell_type": "code",
      "metadata": {
        "id": "4bdMGSEDgD7Z",
        "colab_type": "code",
        "colab": {}
      },
      "source": [
        "# Filtering is about Rows"
      ],
      "execution_count": 147,
      "outputs": []
    },
    {
      "cell_type": "code",
      "metadata": {
        "id": "L4ABYWOIgKyy",
        "colab_type": "code",
        "colab": {
          "base_uri": "https://localhost:8080/",
          "height": 204
        },
        "outputId": "327ebfec-a817-4dc5-fa25-df3c5c568f2b"
      },
      "source": [
        "df.head()"
      ],
      "execution_count": 148,
      "outputs": [
        {
          "output_type": "execute_result",
          "data": {
            "text/html": [
              "<div>\n",
              "<style scoped>\n",
              "    .dataframe tbody tr th:only-of-type {\n",
              "        vertical-align: middle;\n",
              "    }\n",
              "\n",
              "    .dataframe tbody tr th {\n",
              "        vertical-align: top;\n",
              "    }\n",
              "\n",
              "    .dataframe thead th {\n",
              "        text-align: right;\n",
              "    }\n",
              "</style>\n",
              "<table border=\"1\" class=\"dataframe\">\n",
              "  <thead>\n",
              "    <tr style=\"text-align: right;\">\n",
              "      <th></th>\n",
              "      <th>Country</th>\n",
              "      <th>Internet_Users</th>\n",
              "      <th>Population</th>\n",
              "      <th>Population_Rank</th>\n",
              "      <th>Percentage</th>\n",
              "      <th>User_Rank</th>\n",
              "    </tr>\n",
              "  </thead>\n",
              "  <tbody>\n",
              "    <tr>\n",
              "      <th>0</th>\n",
              "      <td>China</td>\n",
              "      <td>765367947</td>\n",
              "      <td>1409517397</td>\n",
              "      <td>1</td>\n",
              "      <td>54.30</td>\n",
              "      <td>116</td>\n",
              "    </tr>\n",
              "    <tr>\n",
              "      <th>1</th>\n",
              "      <td>India</td>\n",
              "      <td>461347554</td>\n",
              "      <td>1339180127</td>\n",
              "      <td>2</td>\n",
              "      <td>34.45</td>\n",
              "      <td>145</td>\n",
              "    </tr>\n",
              "    <tr>\n",
              "      <th>2</th>\n",
              "      <td>United States</td>\n",
              "      <td>244090854</td>\n",
              "      <td>324459463</td>\n",
              "      <td>3</td>\n",
              "      <td>75.23</td>\n",
              "      <td>68</td>\n",
              "    </tr>\n",
              "    <tr>\n",
              "      <th>3</th>\n",
              "      <td>Brazil</td>\n",
              "      <td>141206801</td>\n",
              "      <td>209288278</td>\n",
              "      <td>4</td>\n",
              "      <td>67.47</td>\n",
              "      <td>83</td>\n",
              "    </tr>\n",
              "    <tr>\n",
              "      <th>4</th>\n",
              "      <td>Japan</td>\n",
              "      <td>115845120</td>\n",
              "      <td>127484450</td>\n",
              "      <td>5</td>\n",
              "      <td>90.87</td>\n",
              "      <td>23</td>\n",
              "    </tr>\n",
              "  </tbody>\n",
              "</table>\n",
              "</div>"
            ],
            "text/plain": [
              "         Country  Internet_Users  ...  Percentage  User_Rank\n",
              "0          China       765367947  ...       54.30        116\n",
              "1          India       461347554  ...       34.45        145\n",
              "2  United States       244090854  ...       75.23         68\n",
              "3         Brazil       141206801  ...       67.47         83\n",
              "4          Japan       115845120  ...       90.87         23\n",
              "\n",
              "[5 rows x 6 columns]"
            ]
          },
          "metadata": {
            "tags": []
          },
          "execution_count": 148
        }
      ]
    },
    {
      "cell_type": "code",
      "metadata": {
        "id": "6-vGL9TpgTT5",
        "colab_type": "code",
        "colab": {
          "base_uri": "https://localhost:8080/",
          "height": 221
        },
        "outputId": "39499f35-41d1-41a3-9daf-5d82d0fb909b"
      },
      "source": [
        "df.Percentage > 80"
      ],
      "execution_count": 149,
      "outputs": [
        {
          "output_type": "execute_result",
          "data": {
            "text/plain": [
              "0      False\n",
              "1      False\n",
              "2      False\n",
              "3      False\n",
              "4       True\n",
              "       ...  \n",
              "210     True\n",
              "211    False\n",
              "212    False\n",
              "213    False\n",
              "214    False\n",
              "Name: Percentage, Length: 215, dtype: bool"
            ]
          },
          "metadata": {
            "tags": []
          },
          "execution_count": 149
        }
      ]
    },
    {
      "cell_type": "code",
      "metadata": {
        "id": "52-ND40JgjSA",
        "colab_type": "code",
        "colab": {}
      },
      "source": [
        "filter1 = df.Percentage > 90\n",
        "filter2 = df.Population_Rank < 30"
      ],
      "execution_count": 150,
      "outputs": []
    },
    {
      "cell_type": "code",
      "metadata": {
        "id": "E1QmZeQlruqO",
        "colab_type": "code",
        "colab": {
          "base_uri": "https://localhost:8080/",
          "height": 855
        },
        "outputId": "5037eb4a-b34d-4e10-ed40-14d9fb8af546"
      },
      "source": [
        "df[filter1]"
      ],
      "execution_count": 151,
      "outputs": [
        {
          "output_type": "execute_result",
          "data": {
            "text/html": [
              "<div>\n",
              "<style scoped>\n",
              "    .dataframe tbody tr th:only-of-type {\n",
              "        vertical-align: middle;\n",
              "    }\n",
              "\n",
              "    .dataframe tbody tr th {\n",
              "        vertical-align: top;\n",
              "    }\n",
              "\n",
              "    .dataframe thead th {\n",
              "        text-align: right;\n",
              "    }\n",
              "</style>\n",
              "<table border=\"1\" class=\"dataframe\">\n",
              "  <thead>\n",
              "    <tr style=\"text-align: right;\">\n",
              "      <th></th>\n",
              "      <th>Country</th>\n",
              "      <th>Internet_Users</th>\n",
              "      <th>Population</th>\n",
              "      <th>Population_Rank</th>\n",
              "      <th>Percentage</th>\n",
              "      <th>User_Rank</th>\n",
              "    </tr>\n",
              "  </thead>\n",
              "  <tbody>\n",
              "    <tr>\n",
              "      <th>4</th>\n",
              "      <td>Japan</td>\n",
              "      <td>115845120</td>\n",
              "      <td>127484450</td>\n",
              "      <td>5</td>\n",
              "      <td>90.870000</td>\n",
              "      <td>23</td>\n",
              "    </tr>\n",
              "    <tr>\n",
              "      <th>10</th>\n",
              "      <td>United Kingdom</td>\n",
              "      <td>62621016</td>\n",
              "      <td>66181585</td>\n",
              "      <td>11</td>\n",
              "      <td>94.620000</td>\n",
              "      <td>18</td>\n",
              "    </tr>\n",
              "    <tr>\n",
              "      <th>15</th>\n",
              "      <td>South Korea</td>\n",
              "      <td>48484084</td>\n",
              "      <td>50982212</td>\n",
              "      <td>16</td>\n",
              "      <td>95.100001</td>\n",
              "      <td>15</td>\n",
              "    </tr>\n",
              "    <tr>\n",
              "      <th>21</th>\n",
              "      <td>Canada</td>\n",
              "      <td>33950632</td>\n",
              "      <td>36624199</td>\n",
              "      <td>22</td>\n",
              "      <td>92.699999</td>\n",
              "      <td>22</td>\n",
              "    </tr>\n",
              "    <tr>\n",
              "      <th>32</th>\n",
              "      <td>Taiwan</td>\n",
              "      <td>21920626</td>\n",
              "      <td>23626456</td>\n",
              "      <td>33</td>\n",
              "      <td>92.780001</td>\n",
              "      <td>21</td>\n",
              "    </tr>\n",
              "    <tr>\n",
              "      <th>40</th>\n",
              "      <td>Netherlands</td>\n",
              "      <td>15877494</td>\n",
              "      <td>17035938</td>\n",
              "      <td>41</td>\n",
              "      <td>93.199999</td>\n",
              "      <td>20</td>\n",
              "    </tr>\n",
              "    <tr>\n",
              "      <th>50</th>\n",
              "      <td>Sweden</td>\n",
              "      <td>9554907</td>\n",
              "      <td>9910701</td>\n",
              "      <td>51</td>\n",
              "      <td>96.410002</td>\n",
              "      <td>12</td>\n",
              "    </tr>\n",
              "    <tr>\n",
              "      <th>53</th>\n",
              "      <td>United Arab Emirates</td>\n",
              "      <td>8913217</td>\n",
              "      <td>9400145</td>\n",
              "      <td>54</td>\n",
              "      <td>94.819995</td>\n",
              "      <td>17</td>\n",
              "    </tr>\n",
              "    <tr>\n",
              "      <th>56</th>\n",
              "      <td>Switzerland</td>\n",
              "      <td>7942864</td>\n",
              "      <td>8476005</td>\n",
              "      <td>57</td>\n",
              "      <td>93.709997</td>\n",
              "      <td>19</td>\n",
              "    </tr>\n",
              "    <tr>\n",
              "      <th>78</th>\n",
              "      <td>Denmark</td>\n",
              "      <td>5567278</td>\n",
              "      <td>5733551</td>\n",
              "      <td>79</td>\n",
              "      <td>97.100000</td>\n",
              "      <td>9</td>\n",
              "    </tr>\n",
              "    <tr>\n",
              "      <th>80</th>\n",
              "      <td>Norway</td>\n",
              "      <td>5120225</td>\n",
              "      <td>5305383</td>\n",
              "      <td>81</td>\n",
              "      <td>96.509997</td>\n",
              "      <td>11</td>\n",
              "    </tr>\n",
              "    <tr>\n",
              "      <th>90</th>\n",
              "      <td>New Zealand</td>\n",
              "      <td>4273353</td>\n",
              "      <td>4705818</td>\n",
              "      <td>91</td>\n",
              "      <td>90.809993</td>\n",
              "      <td>24</td>\n",
              "    </tr>\n",
              "    <tr>\n",
              "      <th>94</th>\n",
              "      <td>Kuwait</td>\n",
              "      <td>4053797</td>\n",
              "      <td>4136528</td>\n",
              "      <td>95</td>\n",
              "      <td>97.999989</td>\n",
              "      <td>5</td>\n",
              "    </tr>\n",
              "    <tr>\n",
              "      <th>106</th>\n",
              "      <td>Qatar</td>\n",
              "      <td>2532059</td>\n",
              "      <td>2639211</td>\n",
              "      <td>107</td>\n",
              "      <td>95.939999</td>\n",
              "      <td>13</td>\n",
              "    </tr>\n",
              "    <tr>\n",
              "      <th>127</th>\n",
              "      <td>Bahrain</td>\n",
              "      <td>1431090</td>\n",
              "      <td>1492584</td>\n",
              "      <td>128</td>\n",
              "      <td>95.880031</td>\n",
              "      <td>14</td>\n",
              "    </tr>\n",
              "    <tr>\n",
              "      <th>148</th>\n",
              "      <td>Luxembourg</td>\n",
              "      <td>570794</td>\n",
              "      <td>583455</td>\n",
              "      <td>149</td>\n",
              "      <td>97.829995</td>\n",
              "      <td>6</td>\n",
              "    </tr>\n",
              "    <tr>\n",
              "      <th>156</th>\n",
              "      <td>Brunei</td>\n",
              "      <td>406705</td>\n",
              "      <td>428697</td>\n",
              "      <td>157</td>\n",
              "      <td>94.870036</td>\n",
              "      <td>16</td>\n",
              "    </tr>\n",
              "    <tr>\n",
              "      <th>163</th>\n",
              "      <td>Iceland</td>\n",
              "      <td>329196</td>\n",
              "      <td>335025</td>\n",
              "      <td>164</td>\n",
              "      <td>98.260130</td>\n",
              "      <td>3</td>\n",
              "    </tr>\n",
              "    <tr>\n",
              "      <th>175</th>\n",
              "      <td>Aruba</td>\n",
              "      <td>102285</td>\n",
              "      <td>105264</td>\n",
              "      <td>176</td>\n",
              "      <td>97.169973</td>\n",
              "      <td>8</td>\n",
              "    </tr>\n",
              "    <tr>\n",
              "      <th>178</th>\n",
              "      <td>Andorra</td>\n",
              "      <td>76095</td>\n",
              "      <td>76965</td>\n",
              "      <td>179</td>\n",
              "      <td>98.869616</td>\n",
              "      <td>1</td>\n",
              "    </tr>\n",
              "    <tr>\n",
              "      <th>189</th>\n",
              "      <td>Bermuda</td>\n",
              "      <td>60349</td>\n",
              "      <td>61349</td>\n",
              "      <td>190</td>\n",
              "      <td>98.369982</td>\n",
              "      <td>2</td>\n",
              "    </tr>\n",
              "    <tr>\n",
              "      <th>193</th>\n",
              "      <td>Faroe Islands</td>\n",
              "      <td>48097</td>\n",
              "      <td>49290</td>\n",
              "      <td>194</td>\n",
              "      <td>97.579631</td>\n",
              "      <td>7</td>\n",
              "    </tr>\n",
              "    <tr>\n",
              "      <th>198</th>\n",
              "      <td>Monaco</td>\n",
              "      <td>37553</td>\n",
              "      <td>38695</td>\n",
              "      <td>199</td>\n",
              "      <td>97.048714</td>\n",
              "      <td>10</td>\n",
              "    </tr>\n",
              "    <tr>\n",
              "      <th>200</th>\n",
              "      <td>Liechtenstein</td>\n",
              "      <td>37201</td>\n",
              "      <td>37922</td>\n",
              "      <td>201</td>\n",
              "      <td>98.098729</td>\n",
              "      <td>4</td>\n",
              "    </tr>\n",
              "    <tr>\n",
              "      <th>201</th>\n",
              "      <td>Gibraltar</td>\n",
              "      <td>32494</td>\n",
              "      <td>34571</td>\n",
              "      <td>202</td>\n",
              "      <td>93.992074</td>\n",
              "      <td>0</td>\n",
              "    </tr>\n",
              "    <tr>\n",
              "      <th>210</th>\n",
              "      <td>Falkland Islands</td>\n",
              "      <td>2881</td>\n",
              "      <td>2910</td>\n",
              "      <td>211</td>\n",
              "      <td>99.003436</td>\n",
              "      <td>0</td>\n",
              "    </tr>\n",
              "  </tbody>\n",
              "</table>\n",
              "</div>"
            ],
            "text/plain": [
              "                  Country  Internet_Users  ...  Percentage  User_Rank\n",
              "4                   Japan       115845120  ...   90.870000         23\n",
              "10         United Kingdom        62621016  ...   94.620000         18\n",
              "15            South Korea        48484084  ...   95.100001         15\n",
              "21                 Canada        33950632  ...   92.699999         22\n",
              "32                 Taiwan        21920626  ...   92.780001         21\n",
              "40            Netherlands        15877494  ...   93.199999         20\n",
              "50                 Sweden         9554907  ...   96.410002         12\n",
              "53   United Arab Emirates         8913217  ...   94.819995         17\n",
              "56            Switzerland         7942864  ...   93.709997         19\n",
              "78                Denmark         5567278  ...   97.100000          9\n",
              "80                 Norway         5120225  ...   96.509997         11\n",
              "90            New Zealand         4273353  ...   90.809993         24\n",
              "94                 Kuwait         4053797  ...   97.999989          5\n",
              "106                 Qatar         2532059  ...   95.939999         13\n",
              "127               Bahrain         1431090  ...   95.880031         14\n",
              "148            Luxembourg          570794  ...   97.829995          6\n",
              "156                Brunei          406705  ...   94.870036         16\n",
              "163               Iceland          329196  ...   98.260130          3\n",
              "175                 Aruba          102285  ...   97.169973          8\n",
              "178               Andorra           76095  ...   98.869616          1\n",
              "189               Bermuda           60349  ...   98.369982          2\n",
              "193         Faroe Islands           48097  ...   97.579631          7\n",
              "198                Monaco           37553  ...   97.048714         10\n",
              "200         Liechtenstein           37201  ...   98.098729          4\n",
              "201             Gibraltar           32494  ...   93.992074          0\n",
              "210      Falkland Islands            2881  ...   99.003436          0\n",
              "\n",
              "[26 rows x 6 columns]"
            ]
          },
          "metadata": {
            "tags": []
          },
          "execution_count": 151
        }
      ]
    },
    {
      "cell_type": "code",
      "metadata": {
        "id": "MntpA_mYg7UA",
        "colab_type": "code",
        "colab": {
          "base_uri": "https://localhost:8080/",
          "height": 173
        },
        "outputId": "18dfb207-f40b-4c74-99c2-171692ddceb1"
      },
      "source": [
        "df[filter1 & filter2]"
      ],
      "execution_count": 152,
      "outputs": [
        {
          "output_type": "execute_result",
          "data": {
            "text/html": [
              "<div>\n",
              "<style scoped>\n",
              "    .dataframe tbody tr th:only-of-type {\n",
              "        vertical-align: middle;\n",
              "    }\n",
              "\n",
              "    .dataframe tbody tr th {\n",
              "        vertical-align: top;\n",
              "    }\n",
              "\n",
              "    .dataframe thead th {\n",
              "        text-align: right;\n",
              "    }\n",
              "</style>\n",
              "<table border=\"1\" class=\"dataframe\">\n",
              "  <thead>\n",
              "    <tr style=\"text-align: right;\">\n",
              "      <th></th>\n",
              "      <th>Country</th>\n",
              "      <th>Internet_Users</th>\n",
              "      <th>Population</th>\n",
              "      <th>Population_Rank</th>\n",
              "      <th>Percentage</th>\n",
              "      <th>User_Rank</th>\n",
              "    </tr>\n",
              "  </thead>\n",
              "  <tbody>\n",
              "    <tr>\n",
              "      <th>4</th>\n",
              "      <td>Japan</td>\n",
              "      <td>115845120</td>\n",
              "      <td>127484450</td>\n",
              "      <td>5</td>\n",
              "      <td>90.870000</td>\n",
              "      <td>23</td>\n",
              "    </tr>\n",
              "    <tr>\n",
              "      <th>10</th>\n",
              "      <td>United Kingdom</td>\n",
              "      <td>62621016</td>\n",
              "      <td>66181585</td>\n",
              "      <td>11</td>\n",
              "      <td>94.620000</td>\n",
              "      <td>18</td>\n",
              "    </tr>\n",
              "    <tr>\n",
              "      <th>15</th>\n",
              "      <td>South Korea</td>\n",
              "      <td>48484084</td>\n",
              "      <td>50982212</td>\n",
              "      <td>16</td>\n",
              "      <td>95.100001</td>\n",
              "      <td>15</td>\n",
              "    </tr>\n",
              "    <tr>\n",
              "      <th>21</th>\n",
              "      <td>Canada</td>\n",
              "      <td>33950632</td>\n",
              "      <td>36624199</td>\n",
              "      <td>22</td>\n",
              "      <td>92.699999</td>\n",
              "      <td>22</td>\n",
              "    </tr>\n",
              "  </tbody>\n",
              "</table>\n",
              "</div>"
            ],
            "text/plain": [
              "           Country  Internet_Users  ...  Percentage  User_Rank\n",
              "4            Japan       115845120  ...   90.870000         23\n",
              "10  United Kingdom        62621016  ...   94.620000         18\n",
              "15     South Korea        48484084  ...   95.100001         15\n",
              "21          Canada        33950632  ...   92.699999         22\n",
              "\n",
              "[4 rows x 6 columns]"
            ]
          },
          "metadata": {
            "tags": []
          },
          "execution_count": 152
        }
      ]
    },
    {
      "cell_type": "code",
      "metadata": {
        "id": "OzR4RCRPhHKP",
        "colab_type": "code",
        "colab": {
          "base_uri": "https://localhost:8080/",
          "height": 204
        },
        "outputId": "436e1550-69b3-4615-ab3f-9b7a9cb94864"
      },
      "source": [
        "df.head()"
      ],
      "execution_count": 153,
      "outputs": [
        {
          "output_type": "execute_result",
          "data": {
            "text/html": [
              "<div>\n",
              "<style scoped>\n",
              "    .dataframe tbody tr th:only-of-type {\n",
              "        vertical-align: middle;\n",
              "    }\n",
              "\n",
              "    .dataframe tbody tr th {\n",
              "        vertical-align: top;\n",
              "    }\n",
              "\n",
              "    .dataframe thead th {\n",
              "        text-align: right;\n",
              "    }\n",
              "</style>\n",
              "<table border=\"1\" class=\"dataframe\">\n",
              "  <thead>\n",
              "    <tr style=\"text-align: right;\">\n",
              "      <th></th>\n",
              "      <th>Country</th>\n",
              "      <th>Internet_Users</th>\n",
              "      <th>Population</th>\n",
              "      <th>Population_Rank</th>\n",
              "      <th>Percentage</th>\n",
              "      <th>User_Rank</th>\n",
              "    </tr>\n",
              "  </thead>\n",
              "  <tbody>\n",
              "    <tr>\n",
              "      <th>0</th>\n",
              "      <td>China</td>\n",
              "      <td>765367947</td>\n",
              "      <td>1409517397</td>\n",
              "      <td>1</td>\n",
              "      <td>54.30</td>\n",
              "      <td>116</td>\n",
              "    </tr>\n",
              "    <tr>\n",
              "      <th>1</th>\n",
              "      <td>India</td>\n",
              "      <td>461347554</td>\n",
              "      <td>1339180127</td>\n",
              "      <td>2</td>\n",
              "      <td>34.45</td>\n",
              "      <td>145</td>\n",
              "    </tr>\n",
              "    <tr>\n",
              "      <th>2</th>\n",
              "      <td>United States</td>\n",
              "      <td>244090854</td>\n",
              "      <td>324459463</td>\n",
              "      <td>3</td>\n",
              "      <td>75.23</td>\n",
              "      <td>68</td>\n",
              "    </tr>\n",
              "    <tr>\n",
              "      <th>3</th>\n",
              "      <td>Brazil</td>\n",
              "      <td>141206801</td>\n",
              "      <td>209288278</td>\n",
              "      <td>4</td>\n",
              "      <td>67.47</td>\n",
              "      <td>83</td>\n",
              "    </tr>\n",
              "    <tr>\n",
              "      <th>4</th>\n",
              "      <td>Japan</td>\n",
              "      <td>115845120</td>\n",
              "      <td>127484450</td>\n",
              "      <td>5</td>\n",
              "      <td>90.87</td>\n",
              "      <td>23</td>\n",
              "    </tr>\n",
              "  </tbody>\n",
              "</table>\n",
              "</div>"
            ],
            "text/plain": [
              "         Country  Internet_Users  ...  Percentage  User_Rank\n",
              "0          China       765367947  ...       54.30        116\n",
              "1          India       461347554  ...       34.45        145\n",
              "2  United States       244090854  ...       75.23         68\n",
              "3         Brazil       141206801  ...       67.47         83\n",
              "4          Japan       115845120  ...       90.87         23\n",
              "\n",
              "[5 rows x 6 columns]"
            ]
          },
          "metadata": {
            "tags": []
          },
          "execution_count": 153
        }
      ]
    },
    {
      "cell_type": "code",
      "metadata": {
        "id": "T0WV1GptyGfj",
        "colab_type": "code",
        "colab": {
          "base_uri": "https://localhost:8080/",
          "height": 80
        },
        "outputId": "6a609774-596d-4e17-ed1c-842d210e2f91"
      },
      "source": [
        "df[df.Country=='Japan']"
      ],
      "execution_count": 154,
      "outputs": [
        {
          "output_type": "execute_result",
          "data": {
            "text/html": [
              "<div>\n",
              "<style scoped>\n",
              "    .dataframe tbody tr th:only-of-type {\n",
              "        vertical-align: middle;\n",
              "    }\n",
              "\n",
              "    .dataframe tbody tr th {\n",
              "        vertical-align: top;\n",
              "    }\n",
              "\n",
              "    .dataframe thead th {\n",
              "        text-align: right;\n",
              "    }\n",
              "</style>\n",
              "<table border=\"1\" class=\"dataframe\">\n",
              "  <thead>\n",
              "    <tr style=\"text-align: right;\">\n",
              "      <th></th>\n",
              "      <th>Country</th>\n",
              "      <th>Internet_Users</th>\n",
              "      <th>Population</th>\n",
              "      <th>Population_Rank</th>\n",
              "      <th>Percentage</th>\n",
              "      <th>User_Rank</th>\n",
              "    </tr>\n",
              "  </thead>\n",
              "  <tbody>\n",
              "    <tr>\n",
              "      <th>4</th>\n",
              "      <td>Japan</td>\n",
              "      <td>115845120</td>\n",
              "      <td>127484450</td>\n",
              "      <td>5</td>\n",
              "      <td>90.87</td>\n",
              "      <td>23</td>\n",
              "    </tr>\n",
              "  </tbody>\n",
              "</table>\n",
              "</div>"
            ],
            "text/plain": [
              "  Country  Internet_Users  Population  Population_Rank  Percentage  User_Rank\n",
              "4   Japan       115845120   127484450                5       90.87         23"
            ]
          },
          "metadata": {
            "tags": []
          },
          "execution_count": 154
        }
      ]
    },
    {
      "cell_type": "code",
      "metadata": {
        "id": "inPkBWn6yRTY",
        "colab_type": "code",
        "colab": {}
      },
      "source": [
        "### Accessing indevidual element"
      ],
      "execution_count": 155,
      "outputs": []
    },
    {
      "cell_type": "code",
      "metadata": {
        "id": "IXApBAHTW9_w",
        "colab_type": "code",
        "colab": {
          "base_uri": "https://localhost:8080/",
          "height": 204
        },
        "outputId": "476f861b-dfcc-4aaa-ba24-82c9bd5a8d22"
      },
      "source": [
        "df.head()"
      ],
      "execution_count": 156,
      "outputs": [
        {
          "output_type": "execute_result",
          "data": {
            "text/html": [
              "<div>\n",
              "<style scoped>\n",
              "    .dataframe tbody tr th:only-of-type {\n",
              "        vertical-align: middle;\n",
              "    }\n",
              "\n",
              "    .dataframe tbody tr th {\n",
              "        vertical-align: top;\n",
              "    }\n",
              "\n",
              "    .dataframe thead th {\n",
              "        text-align: right;\n",
              "    }\n",
              "</style>\n",
              "<table border=\"1\" class=\"dataframe\">\n",
              "  <thead>\n",
              "    <tr style=\"text-align: right;\">\n",
              "      <th></th>\n",
              "      <th>Country</th>\n",
              "      <th>Internet_Users</th>\n",
              "      <th>Population</th>\n",
              "      <th>Population_Rank</th>\n",
              "      <th>Percentage</th>\n",
              "      <th>User_Rank</th>\n",
              "    </tr>\n",
              "  </thead>\n",
              "  <tbody>\n",
              "    <tr>\n",
              "      <th>0</th>\n",
              "      <td>China</td>\n",
              "      <td>765367947</td>\n",
              "      <td>1409517397</td>\n",
              "      <td>1</td>\n",
              "      <td>54.30</td>\n",
              "      <td>116</td>\n",
              "    </tr>\n",
              "    <tr>\n",
              "      <th>1</th>\n",
              "      <td>India</td>\n",
              "      <td>461347554</td>\n",
              "      <td>1339180127</td>\n",
              "      <td>2</td>\n",
              "      <td>34.45</td>\n",
              "      <td>145</td>\n",
              "    </tr>\n",
              "    <tr>\n",
              "      <th>2</th>\n",
              "      <td>United States</td>\n",
              "      <td>244090854</td>\n",
              "      <td>324459463</td>\n",
              "      <td>3</td>\n",
              "      <td>75.23</td>\n",
              "      <td>68</td>\n",
              "    </tr>\n",
              "    <tr>\n",
              "      <th>3</th>\n",
              "      <td>Brazil</td>\n",
              "      <td>141206801</td>\n",
              "      <td>209288278</td>\n",
              "      <td>4</td>\n",
              "      <td>67.47</td>\n",
              "      <td>83</td>\n",
              "    </tr>\n",
              "    <tr>\n",
              "      <th>4</th>\n",
              "      <td>Japan</td>\n",
              "      <td>115845120</td>\n",
              "      <td>127484450</td>\n",
              "      <td>5</td>\n",
              "      <td>90.87</td>\n",
              "      <td>23</td>\n",
              "    </tr>\n",
              "  </tbody>\n",
              "</table>\n",
              "</div>"
            ],
            "text/plain": [
              "         Country  Internet_Users  ...  Percentage  User_Rank\n",
              "0          China       765367947  ...       54.30        116\n",
              "1          India       461347554  ...       34.45        145\n",
              "2  United States       244090854  ...       75.23         68\n",
              "3         Brazil       141206801  ...       67.47         83\n",
              "4          Japan       115845120  ...       90.87         23\n",
              "\n",
              "[5 rows x 6 columns]"
            ]
          },
          "metadata": {
            "tags": []
          },
          "execution_count": 156
        }
      ]
    },
    {
      "cell_type": "code",
      "metadata": {
        "id": "q7Ou5uFuzQN1",
        "colab_type": "code",
        "colab": {}
      },
      "source": [
        "#.at #for labels. *Even integers are treated as labels\n",
        "#.iat #for integer location"
      ],
      "execution_count": 157,
      "outputs": []
    },
    {
      "cell_type": "code",
      "metadata": {
        "id": "-zV9MonpXV9w",
        "colab_type": "code",
        "colab": {
          "base_uri": "https://localhost:8080/",
          "height": 35
        },
        "outputId": "ec077e5a-8fb9-4453-8b00-c77f13236d22"
      },
      "source": [
        "df.iat[3,0]"
      ],
      "execution_count": 158,
      "outputs": [
        {
          "output_type": "execute_result",
          "data": {
            "application/vnd.google.colaboratory.intrinsic": {
              "type": "string"
            },
            "text/plain": [
              "'Brazil'"
            ]
          },
          "metadata": {
            "tags": []
          },
          "execution_count": 158
        }
      ]
    },
    {
      "cell_type": "code",
      "metadata": {
        "id": "VQV17HYJXtqF",
        "colab_type": "code",
        "colab": {
          "base_uri": "https://localhost:8080/",
          "height": 34
        },
        "outputId": "a143dbdb-9dc0-4fca-e781-2fe499e930de"
      },
      "source": [
        "df.at[2, 'Population']"
      ],
      "execution_count": 159,
      "outputs": [
        {
          "output_type": "execute_result",
          "data": {
            "text/plain": [
              "324459463"
            ]
          },
          "metadata": {
            "tags": []
          },
          "execution_count": 159
        }
      ]
    },
    {
      "cell_type": "code",
      "metadata": {
        "id": "uuDIsCYYYTrz",
        "colab_type": "code",
        "colab": {}
      },
      "source": [
        "# why need .at ?"
      ],
      "execution_count": 160,
      "outputs": []
    },
    {
      "cell_type": "code",
      "metadata": {
        "id": "ooAVWILCYfUT",
        "colab_type": "code",
        "colab": {
          "base_uri": "https://localhost:8080/",
          "height": 390
        },
        "outputId": "84664bda-0c8d-4043-ae63-6079feaf6ac5"
      },
      "source": [
        "sub20 = df[: : 20]\n",
        "\n",
        "sub20"
      ],
      "execution_count": 161,
      "outputs": [
        {
          "output_type": "execute_result",
          "data": {
            "text/html": [
              "<div>\n",
              "<style scoped>\n",
              "    .dataframe tbody tr th:only-of-type {\n",
              "        vertical-align: middle;\n",
              "    }\n",
              "\n",
              "    .dataframe tbody tr th {\n",
              "        vertical-align: top;\n",
              "    }\n",
              "\n",
              "    .dataframe thead th {\n",
              "        text-align: right;\n",
              "    }\n",
              "</style>\n",
              "<table border=\"1\" class=\"dataframe\">\n",
              "  <thead>\n",
              "    <tr style=\"text-align: right;\">\n",
              "      <th></th>\n",
              "      <th>Country</th>\n",
              "      <th>Internet_Users</th>\n",
              "      <th>Population</th>\n",
              "      <th>Population_Rank</th>\n",
              "      <th>Percentage</th>\n",
              "      <th>User_Rank</th>\n",
              "    </tr>\n",
              "  </thead>\n",
              "  <tbody>\n",
              "    <tr>\n",
              "      <th>0</th>\n",
              "      <td>China</td>\n",
              "      <td>765367947</td>\n",
              "      <td>1409517397</td>\n",
              "      <td>1</td>\n",
              "      <td>54.300000</td>\n",
              "      <td>116</td>\n",
              "    </tr>\n",
              "    <tr>\n",
              "      <th>20</th>\n",
              "      <td>Italy</td>\n",
              "      <td>36387619</td>\n",
              "      <td>59359900</td>\n",
              "      <td>21</td>\n",
              "      <td>61.300001</td>\n",
              "      <td>98</td>\n",
              "    </tr>\n",
              "    <tr>\n",
              "      <th>40</th>\n",
              "      <td>Netherlands</td>\n",
              "      <td>15877494</td>\n",
              "      <td>17035938</td>\n",
              "      <td>41</td>\n",
              "      <td>93.199999</td>\n",
              "      <td>20</td>\n",
              "    </tr>\n",
              "    <tr>\n",
              "      <th>60</th>\n",
              "      <td>Portugal</td>\n",
              "      <td>7622142</td>\n",
              "      <td>10329506</td>\n",
              "      <td>61</td>\n",
              "      <td>73.789995</td>\n",
              "      <td>70</td>\n",
              "    </tr>\n",
              "    <tr>\n",
              "      <th>80</th>\n",
              "      <td>Norway</td>\n",
              "      <td>5120225</td>\n",
              "      <td>5305383</td>\n",
              "      <td>81</td>\n",
              "      <td>96.509997</td>\n",
              "      <td>11</td>\n",
              "    </tr>\n",
              "    <tr>\n",
              "      <th>100</th>\n",
              "      <td>Burkina Faso</td>\n",
              "      <td>3047909</td>\n",
              "      <td>19193382</td>\n",
              "      <td>101</td>\n",
              "      <td>15.880000</td>\n",
              "      <td>183</td>\n",
              "    </tr>\n",
              "    <tr>\n",
              "      <th>120</th>\n",
              "      <td>Laos</td>\n",
              "      <td>1749517</td>\n",
              "      <td>6858160</td>\n",
              "      <td>121</td>\n",
              "      <td>25.510006</td>\n",
              "      <td>167</td>\n",
              "    </tr>\n",
              "    <tr>\n",
              "      <th>140</th>\n",
              "      <td>Botswana</td>\n",
              "      <td>948977</td>\n",
              "      <td>2291661</td>\n",
              "      <td>141</td>\n",
              "      <td>41.410008</td>\n",
              "      <td>135</td>\n",
              "    </tr>\n",
              "    <tr>\n",
              "      <th>160</th>\n",
              "      <td>Malta</td>\n",
              "      <td>344970</td>\n",
              "      <td>430835</td>\n",
              "      <td>161</td>\n",
              "      <td>80.070096</td>\n",
              "      <td>53</td>\n",
              "    </tr>\n",
              "    <tr>\n",
              "      <th>180</th>\n",
              "      <td>Solomon Islands</td>\n",
              "      <td>72872</td>\n",
              "      <td>611343</td>\n",
              "      <td>181</td>\n",
              "      <td>11.919986</td>\n",
              "      <td>193</td>\n",
              "    </tr>\n",
              "    <tr>\n",
              "      <th>200</th>\n",
              "      <td>Liechtenstein</td>\n",
              "      <td>37201</td>\n",
              "      <td>37922</td>\n",
              "      <td>201</td>\n",
              "      <td>98.098729</td>\n",
              "      <td>4</td>\n",
              "    </tr>\n",
              "  </tbody>\n",
              "</table>\n",
              "</div>"
            ],
            "text/plain": [
              "             Country  Internet_Users  ...  Percentage  User_Rank\n",
              "0              China       765367947  ...   54.300000        116\n",
              "20             Italy        36387619  ...   61.300001         98\n",
              "40       Netherlands        15877494  ...   93.199999         20\n",
              "60          Portugal         7622142  ...   73.789995         70\n",
              "80            Norway         5120225  ...   96.509997         11\n",
              "100     Burkina Faso         3047909  ...   15.880000        183\n",
              "120             Laos         1749517  ...   25.510006        167\n",
              "140         Botswana          948977  ...   41.410008        135\n",
              "160            Malta          344970  ...   80.070096         53\n",
              "180  Solomon Islands           72872  ...   11.919986        193\n",
              "200    Liechtenstein           37201  ...   98.098729          4\n",
              "\n",
              "[11 rows x 6 columns]"
            ]
          },
          "metadata": {
            "tags": []
          },
          "execution_count": 161
        }
      ]
    },
    {
      "cell_type": "code",
      "metadata": {
        "id": "ING4LYUwYoLy",
        "colab_type": "code",
        "colab": {
          "base_uri": "https://localhost:8080/",
          "height": 35
        },
        "outputId": "46fb1813-fdda-4b81-ddf2-a03ff38d415b"
      },
      "source": [
        "sub20.iat[5,0]"
      ],
      "execution_count": 162,
      "outputs": [
        {
          "output_type": "execute_result",
          "data": {
            "application/vnd.google.colaboratory.intrinsic": {
              "type": "string"
            },
            "text/plain": [
              "'Burkina Faso'"
            ]
          },
          "metadata": {
            "tags": []
          },
          "execution_count": 162
        }
      ]
    },
    {
      "cell_type": "code",
      "metadata": {
        "id": "pkNi3PPpihZK",
        "colab_type": "code",
        "colab": {
          "base_uri": "https://localhost:8080/",
          "height": 34
        },
        "outputId": "f6e561a3-6942-483c-f3c6-68aa8839cb9f"
      },
      "source": [
        "sub20.at[120,'Internet_Users']   ## See, .at looks for label. Here 120 is considared as label. If you type 10 or 5 it will show error. because 10 or 5 isn't in sub20"
      ],
      "execution_count": 163,
      "outputs": [
        {
          "output_type": "execute_result",
          "data": {
            "text/plain": [
              "1749517"
            ]
          },
          "metadata": {
            "tags": []
          },
          "execution_count": 163
        }
      ]
    },
    {
      "cell_type": "code",
      "metadata": {
        "id": "eVp2GEK1jERk",
        "colab_type": "code",
        "colab": {}
      },
      "source": [
        "### Introduction to Seaborn ---------------------------------------------------"
      ],
      "execution_count": 164,
      "outputs": []
    },
    {
      "cell_type": "code",
      "metadata": {
        "id": "QM9XJ2qmkevD",
        "colab_type": "code",
        "colab": {}
      },
      "source": [
        "import matplotlib.pyplot as plt\n",
        "import seaborn as sns\n",
        "import pandas.util.testing as tm\n",
        "%matplotlib inline"
      ],
      "execution_count": 165,
      "outputs": []
    },
    {
      "cell_type": "code",
      "metadata": {
        "id": "gGDNq3rQkwku",
        "colab_type": "code",
        "colab": {
          "base_uri": "https://localhost:8080/",
          "height": 204
        },
        "outputId": "c7b88683-c6d8-4400-e465-e1e4721c613d"
      },
      "source": [
        "df.head()"
      ],
      "execution_count": 166,
      "outputs": [
        {
          "output_type": "execute_result",
          "data": {
            "text/html": [
              "<div>\n",
              "<style scoped>\n",
              "    .dataframe tbody tr th:only-of-type {\n",
              "        vertical-align: middle;\n",
              "    }\n",
              "\n",
              "    .dataframe tbody tr th {\n",
              "        vertical-align: top;\n",
              "    }\n",
              "\n",
              "    .dataframe thead th {\n",
              "        text-align: right;\n",
              "    }\n",
              "</style>\n",
              "<table border=\"1\" class=\"dataframe\">\n",
              "  <thead>\n",
              "    <tr style=\"text-align: right;\">\n",
              "      <th></th>\n",
              "      <th>Country</th>\n",
              "      <th>Internet_Users</th>\n",
              "      <th>Population</th>\n",
              "      <th>Population_Rank</th>\n",
              "      <th>Percentage</th>\n",
              "      <th>User_Rank</th>\n",
              "    </tr>\n",
              "  </thead>\n",
              "  <tbody>\n",
              "    <tr>\n",
              "      <th>0</th>\n",
              "      <td>China</td>\n",
              "      <td>765367947</td>\n",
              "      <td>1409517397</td>\n",
              "      <td>1</td>\n",
              "      <td>54.30</td>\n",
              "      <td>116</td>\n",
              "    </tr>\n",
              "    <tr>\n",
              "      <th>1</th>\n",
              "      <td>India</td>\n",
              "      <td>461347554</td>\n",
              "      <td>1339180127</td>\n",
              "      <td>2</td>\n",
              "      <td>34.45</td>\n",
              "      <td>145</td>\n",
              "    </tr>\n",
              "    <tr>\n",
              "      <th>2</th>\n",
              "      <td>United States</td>\n",
              "      <td>244090854</td>\n",
              "      <td>324459463</td>\n",
              "      <td>3</td>\n",
              "      <td>75.23</td>\n",
              "      <td>68</td>\n",
              "    </tr>\n",
              "    <tr>\n",
              "      <th>3</th>\n",
              "      <td>Brazil</td>\n",
              "      <td>141206801</td>\n",
              "      <td>209288278</td>\n",
              "      <td>4</td>\n",
              "      <td>67.47</td>\n",
              "      <td>83</td>\n",
              "    </tr>\n",
              "    <tr>\n",
              "      <th>4</th>\n",
              "      <td>Japan</td>\n",
              "      <td>115845120</td>\n",
              "      <td>127484450</td>\n",
              "      <td>5</td>\n",
              "      <td>90.87</td>\n",
              "      <td>23</td>\n",
              "    </tr>\n",
              "  </tbody>\n",
              "</table>\n",
              "</div>"
            ],
            "text/plain": [
              "         Country  Internet_Users  ...  Percentage  User_Rank\n",
              "0          China       765367947  ...       54.30        116\n",
              "1          India       461347554  ...       34.45        145\n",
              "2  United States       244090854  ...       75.23         68\n",
              "3         Brazil       141206801  ...       67.47         83\n",
              "4          Japan       115845120  ...       90.87         23\n",
              "\n",
              "[5 rows x 6 columns]"
            ]
          },
          "metadata": {
            "tags": []
          },
          "execution_count": 166
        }
      ]
    },
    {
      "cell_type": "code",
      "metadata": {
        "id": "tGHRYiWQm5CV",
        "colab_type": "code",
        "colab": {
          "base_uri": "https://localhost:8080/",
          "height": 291
        },
        "outputId": "f274938e-caa6-43c7-d9ef-42ad54490417"
      },
      "source": [
        "#Distribution :\n",
        "vis1 = sns.distplot(df['Internet_Users'])"
      ],
      "execution_count": 167,
      "outputs": [
        {
          "output_type": "display_data",
          "data": {
            "image/png": "[encoded data removed]",
            "text/plain": [
              "<Figure size 432x288 with 1 Axes>"
            ]
          },
          "metadata": {
            "tags": [],
            "needs_background": "light"
          }
        }
      ]
    },
    {
      "cell_type": "code",
      "metadata": {
        "id": "AQd7n5OHnaBa",
        "colab_type": "code",
        "colab": {
          "base_uri": "https://localhost:8080/",
          "height": 291
        },
        "outputId": "00fa5243-644e-47f5-8562-1eec733c3761"
      },
      "source": [
        "vis1 = sns.distplot(df['Internet_Users'], bins = 20)"
      ],
      "execution_count": 168,
      "outputs": [
        {
          "output_type": "display_data",
          "data": {
            "image/png": "[encoded data removed]",
            "text/plain": [
              "<Figure size 432x288 with 1 Axes>"
            ]
          },
          "metadata": {
            "tags": [],
            "needs_background": "light"
          }
        }
      ]
    },
    {
      "cell_type": "code",
      "metadata": {
        "id": "HMYXWv0-oxvc",
        "colab_type": "code",
        "colab": {
          "base_uri": "https://localhost:8080/",
          "height": 280
        },
        "outputId": "58d9d28f-6fa2-4c78-f40d-ee41be6cb1ec"
      },
      "source": [
        "vis2 = sns.barplot(data = df[:10], x = 'Population_Rank', y = 'Percentage')"
      ],
      "execution_count": 169,
      "outputs": [
        {
          "output_type": "display_data",
          "data": {
            "image/png": "[encoded data removed]",
            "text/plain": [
              "<Figure size 432x288 with 1 Axes>"
            ]
          },
          "metadata": {
            "tags": [],
            "needs_background": "light"
          }
        }
      ]
    },
    {
      "cell_type": "code",
      "metadata": {
        "id": "AjNtJEjtpSJo",
        "colab_type": "code",
        "colab": {}
      },
      "source": [
        "#Seaborn gallery\n",
        "\n",
        "## see seaborn gallery here \"https://seaborn.pydata.org/examples/index.html\""
      ],
      "execution_count": 170,
      "outputs": []
    },
    {
      "cell_type": "code",
      "metadata": {
        "id": "lTa91I6ksBfR",
        "colab_type": "code",
        "colab": {
          "base_uri": "https://localhost:8080/",
          "height": 369
        },
        "outputId": "a2ea3d8b-1daa-4b4c-f76d-5cc8b934dc15"
      },
      "source": [
        "vis3 = sns.lmplot(data = df[:20], x = 'Population', y = 'Percentage')"
      ],
      "execution_count": 171,
      "outputs": [
        {
          "output_type": "display_data",
          "data": {
            "image/png": "[encoded data removed]",
            "text/plain": [
              "<Figure size 360x360 with 1 Axes>"
            ]
          },
          "metadata": {
            "tags": [],
            "needs_background": "light"
          }
        }
      ]
    },
    {
      "cell_type": "code",
      "metadata": {
        "id": "YFXPt6VHsiSV",
        "colab_type": "code",
        "colab": {
          "base_uri": "https://localhost:8080/",
          "height": 585
        },
        "outputId": "ed0e5c79-05a6-4b73-a0a5-2587881c9b11"
      },
      "source": [
        "vis3 = sns.lmplot(data = df[:15], x = 'Population', y = 'Percentage', hue = 'Country', height=8)  #For first 15 countries - data = df[:15]"
      ],
      "execution_count": 172,
      "outputs": [
        {
          "output_type": "display_data",
          "data": {
            "image/png": "[encoded data removed]",
            "text/plain": [
              "<Figure size 692.25x576 with 1 Axes>"
            ]
          },
          "metadata": {
            "tags": [],
            "needs_background": "light"
          }
        }
      ]
    },
    {
      "cell_type": "code",
      "metadata": {
        "id": "1XMdCh8ntBt2",
        "colab_type": "code",
        "colab": {}
      },
      "source": [
        "### Keyword Argumants in Python (Advance)"
      ],
      "execution_count": 173,
      "outputs": []
    },
    {
      "cell_type": "code",
      "metadata": {
        "id": "BebIWbG_x5Co",
        "colab_type": "code",
        "colab": {}
      },
      "source": [
        "#Marker size"
      ],
      "execution_count": 174,
      "outputs": []
    },
    {
      "cell_type": "code",
      "metadata": {
        "id": "NjEYuWdCx70E",
        "colab_type": "code",
        "colab": {
          "base_uri": "https://localhost:8080/",
          "height": 369
        },
        "outputId": "e69a983e-9722-49fe-c61c-2c67f7834fc7"
      },
      "source": [
        "vis3 = sns.lmplot(data = df[:15], x = 'Population', y = 'Percentage', hue = 'Country', height=5, \\\n",
        "                  scatter_kws={\"s\":120})"
      ],
      "execution_count": 175,
      "outputs": [
        {
          "output_type": "display_data",
          "data": {
            "image/png": "[encoded data removed]",
            "text/plain": [
              "<Figure size 476.25x360 with 1 Axes>"
            ]
          },
          "metadata": {
            "tags": [],
            "needs_background": "light"
          }
        }
      ]
    },
    {
      "cell_type": "code",
      "metadata": {
        "id": "18nQuB4hzu15",
        "colab_type": "code",
        "colab": {
          "base_uri": "https://localhost:8080/",
          "height": 221
        },
        "outputId": "5bb1897d-32ab-406e-e301-106bbfd499cf"
      },
      "source": [
        "df['Population']"
      ],
      "execution_count": 176,
      "outputs": [
        {
          "output_type": "execute_result",
          "data": {
            "text/plain": [
              "0      1409517397\n",
              "1      1339180127\n",
              "2       324459463\n",
              "3       209288278\n",
              "4       127484450\n",
              "          ...    \n",
              "210          2910\n",
              "211          5177\n",
              "212         11773\n",
              "213          1618\n",
              "214           806\n",
              "Name: Population, Length: 215, dtype: int64"
            ]
          },
          "metadata": {
            "tags": []
          },
          "execution_count": 176
        }
      ]
    },
    {
      "cell_type": "code",
      "metadata": {
        "id": "cdqfLZsl0Aev",
        "colab_type": "code",
        "colab": {
          "base_uri": "https://localhost:8080/",
          "height": 204
        },
        "outputId": "b2e35b11-e9a9-4a7b-c63f-086995b9e6db"
      },
      "source": [
        "df.head()"
      ],
      "execution_count": 177,
      "outputs": [
        {
          "output_type": "execute_result",
          "data": {
            "text/html": [
              "<div>\n",
              "<style scoped>\n",
              "    .dataframe tbody tr th:only-of-type {\n",
              "        vertical-align: middle;\n",
              "    }\n",
              "\n",
              "    .dataframe tbody tr th {\n",
              "        vertical-align: top;\n",
              "    }\n",
              "\n",
              "    .dataframe thead th {\n",
              "        text-align: right;\n",
              "    }\n",
              "</style>\n",
              "<table border=\"1\" class=\"dataframe\">\n",
              "  <thead>\n",
              "    <tr style=\"text-align: right;\">\n",
              "      <th></th>\n",
              "      <th>Country</th>\n",
              "      <th>Internet_Users</th>\n",
              "      <th>Population</th>\n",
              "      <th>Population_Rank</th>\n",
              "      <th>Percentage</th>\n",
              "      <th>User_Rank</th>\n",
              "    </tr>\n",
              "  </thead>\n",
              "  <tbody>\n",
              "    <tr>\n",
              "      <th>0</th>\n",
              "      <td>China</td>\n",
              "      <td>765367947</td>\n",
              "      <td>1409517397</td>\n",
              "      <td>1</td>\n",
              "      <td>54.30</td>\n",
              "      <td>116</td>\n",
              "    </tr>\n",
              "    <tr>\n",
              "      <th>1</th>\n",
              "      <td>India</td>\n",
              "      <td>461347554</td>\n",
              "      <td>1339180127</td>\n",
              "      <td>2</td>\n",
              "      <td>34.45</td>\n",
              "      <td>145</td>\n",
              "    </tr>\n",
              "    <tr>\n",
              "      <th>2</th>\n",
              "      <td>United States</td>\n",
              "      <td>244090854</td>\n",
              "      <td>324459463</td>\n",
              "      <td>3</td>\n",
              "      <td>75.23</td>\n",
              "      <td>68</td>\n",
              "    </tr>\n",
              "    <tr>\n",
              "      <th>3</th>\n",
              "      <td>Brazil</td>\n",
              "      <td>141206801</td>\n",
              "      <td>209288278</td>\n",
              "      <td>4</td>\n",
              "      <td>67.47</td>\n",
              "      <td>83</td>\n",
              "    </tr>\n",
              "    <tr>\n",
              "      <th>4</th>\n",
              "      <td>Japan</td>\n",
              "      <td>115845120</td>\n",
              "      <td>127484450</td>\n",
              "      <td>5</td>\n",
              "      <td>90.87</td>\n",
              "      <td>23</td>\n",
              "    </tr>\n",
              "  </tbody>\n",
              "</table>\n",
              "</div>"
            ],
            "text/plain": [
              "         Country  Internet_Users  ...  Percentage  User_Rank\n",
              "0          China       765367947  ...       54.30        116\n",
              "1          India       461347554  ...       34.45        145\n",
              "2  United States       244090854  ...       75.23         68\n",
              "3         Brazil       141206801  ...       67.47         83\n",
              "4          Japan       115845120  ...       90.87         23\n",
              "\n",
              "[5 rows x 6 columns]"
            ]
          },
          "metadata": {
            "tags": []
          },
          "execution_count": 177
        }
      ]
    },
    {
      "cell_type": "code",
      "metadata": {
        "id": "9223NK4Ey09A",
        "colab_type": "code",
        "colab": {
          "base_uri": "https://localhost:8080/",
          "height": 302
        },
        "outputId": "11954f0a-0ad7-4915-d7c1-70c99e85cc53"
      },
      "source": [
        "plotdata = df['Population']\n",
        "plotdata.plot(kind=\"bar\")"
      ],
      "execution_count": 178,
      "outputs": [
        {
          "output_type": "execute_result",
          "data": {
            "text/plain": [
              "<matplotlib.axes._subplots.AxesSubplot at 0x7f3cde0a32b0>"
            ]
          },
          "metadata": {
            "tags": []
          },
          "execution_count": 178
        },
        {
          "output_type": "display_data",
          "data": {
            "image/png": "[encoded data removed]",
            "text/plain": [
              "<Figure size 432x288 with 1 Axes>"
            ]
          },
          "metadata": {
            "tags": [],
            "needs_background": "light"
          }
        }
      ]
    },
    {
      "cell_type": "code",
      "metadata": {
        "id": "fpMvdhSz0uyW",
        "colab_type": "code",
        "colab": {
          "base_uri": "https://localhost:8080/",
          "height": 359
        },
        "outputId": "39d86cb3-b273-4115-b7a0-b4d3290e06f1"
      },
      "source": [
        "df[['Country','Population', 'Internet_Users']][:10]"
      ],
      "execution_count": 179,
      "outputs": [
        {
          "output_type": "execute_result",
          "data": {
            "text/html": [
              "<div>\n",
              "<style scoped>\n",
              "    .dataframe tbody tr th:only-of-type {\n",
              "        vertical-align: middle;\n",
              "    }\n",
              "\n",
              "    .dataframe tbody tr th {\n",
              "        vertical-align: top;\n",
              "    }\n",
              "\n",
              "    .dataframe thead th {\n",
              "        text-align: right;\n",
              "    }\n",
              "</style>\n",
              "<table border=\"1\" class=\"dataframe\">\n",
              "  <thead>\n",
              "    <tr style=\"text-align: right;\">\n",
              "      <th></th>\n",
              "      <th>Country</th>\n",
              "      <th>Population</th>\n",
              "      <th>Internet_Users</th>\n",
              "    </tr>\n",
              "  </thead>\n",
              "  <tbody>\n",
              "    <tr>\n",
              "      <th>0</th>\n",
              "      <td>China</td>\n",
              "      <td>1409517397</td>\n",
              "      <td>765367947</td>\n",
              "    </tr>\n",
              "    <tr>\n",
              "      <th>1</th>\n",
              "      <td>India</td>\n",
              "      <td>1339180127</td>\n",
              "      <td>461347554</td>\n",
              "    </tr>\n",
              "    <tr>\n",
              "      <th>2</th>\n",
              "      <td>United States</td>\n",
              "      <td>324459463</td>\n",
              "      <td>244090854</td>\n",
              "    </tr>\n",
              "    <tr>\n",
              "      <th>3</th>\n",
              "      <td>Brazil</td>\n",
              "      <td>209288278</td>\n",
              "      <td>141206801</td>\n",
              "    </tr>\n",
              "    <tr>\n",
              "      <th>4</th>\n",
              "      <td>Japan</td>\n",
              "      <td>127484450</td>\n",
              "      <td>115845120</td>\n",
              "    </tr>\n",
              "    <tr>\n",
              "      <th>5</th>\n",
              "      <td>Russia</td>\n",
              "      <td>143989754</td>\n",
              "      <td>109446612</td>\n",
              "    </tr>\n",
              "    <tr>\n",
              "      <th>6</th>\n",
              "      <td>Indonesia</td>\n",
              "      <td>263991379</td>\n",
              "      <td>85242816</td>\n",
              "    </tr>\n",
              "    <tr>\n",
              "      <th>7</th>\n",
              "      <td>Mexico</td>\n",
              "      <td>129163276</td>\n",
              "      <td>82470752</td>\n",
              "    </tr>\n",
              "    <tr>\n",
              "      <th>8</th>\n",
              "      <td>Germany</td>\n",
              "      <td>82114224</td>\n",
              "      <td>69304405</td>\n",
              "    </tr>\n",
              "    <tr>\n",
              "      <th>9</th>\n",
              "      <td>Philippines</td>\n",
              "      <td>104918090</td>\n",
              "      <td>63003313</td>\n",
              "    </tr>\n",
              "  </tbody>\n",
              "</table>\n",
              "</div>"
            ],
            "text/plain": [
              "         Country  Population  Internet_Users\n",
              "0          China  1409517397       765367947\n",
              "1          India  1339180127       461347554\n",
              "2  United States   324459463       244090854\n",
              "3         Brazil   209288278       141206801\n",
              "4          Japan   127484450       115845120\n",
              "5         Russia   143989754       109446612\n",
              "6      Indonesia   263991379        85242816\n",
              "7         Mexico   129163276        82470752\n",
              "8        Germany    82114224        69304405\n",
              "9    Philippines   104918090        63003313"
            ]
          },
          "metadata": {
            "tags": []
          },
          "execution_count": 179
        }
      ]
    },
    {
      "cell_type": "code",
      "metadata": {
        "id": "JFyKWicqzKdT",
        "colab_type": "code",
        "colab": {
          "base_uri": "https://localhost:8080/",
          "height": 370
        },
        "outputId": "0a167f9b-88a3-4ea9-86c1-769757557278"
      },
      "source": [
        "plotdata = df[['Country','Population', 'Internet_Users']][:10]\n",
        "plotdata.set_index('Country').plot(kind='bar')\n",
        "plt.title(\"Population VS Internet user\")\n",
        "plt.xlabel(\"Country\")\n",
        "plt.ylabel(\"Population & Internet User\")"
      ],
      "execution_count": 180,
      "outputs": [
        {
          "output_type": "execute_result",
          "data": {
            "text/plain": [
              "Text(0, 0.5, 'Population & Internet User')"
            ]
          },
          "metadata": {
            "tags": []
          },
          "execution_count": 180
        },
        {
          "output_type": "display_data",
          "data": {
            "image/png": "[encoded data removed]",
            "text/plain": [
              "<Figure size 432x288 with 1 Axes>"
            ]
          },
          "metadata": {
            "tags": [],
            "needs_background": "light"
          }
        }
      ]
    },
    {
      "cell_type": "code",
      "metadata": {
        "id": "knzq4LnW0Wp4",
        "colab_type": "code",
        "colab": {
          "base_uri": "https://localhost:8080/",
          "height": 491
        },
        "outputId": "6a1e0c27-f750-46b8-d0f5-026a4de28b13"
      },
      "source": [
        "## stacked bar chart \n",
        "## stacked=True\n",
        "\n",
        "plotdata = df[['Country','Population', 'Internet_Users']][:20]\n",
        "plotdata.set_index('Country').plot(kind='bar', stacked=True,figsize=(12,6))       # \"Country\" as index\n",
        "plt.title(\"Population VS Internet user\")\n",
        "plt.xlabel(\"Country Name\")\n",
        "plt.ylabel(\"Population & Internet User\")"
      ],
      "execution_count": 181,
      "outputs": [
        {
          "output_type": "execute_result",
          "data": {
            "text/plain": [
              "Text(0, 0.5, 'Population & Internet User')"
            ]
          },
          "metadata": {
            "tags": []
          },
          "execution_count": 181
        },
        {
          "output_type": "display_data",
          "data": {
            "image/png": "[encoded data removed]",
            "text/plain": [
              "<Figure size 864x432 with 1 Axes>"
            ]
          },
          "metadata": {
            "tags": [],
            "needs_background": "light"
          }
        }
      ]
    },
    {
      "cell_type": "code",
      "metadata": {
        "id": "cwwwr82LLc0n",
        "colab_type": "code",
        "colab": {
          "base_uri": "https://localhost:8080/",
          "height": 491
        },
        "outputId": "537bb748-6fcf-4b96-eb07-b4ec433a904c"
      },
      "source": [
        "## Adding different color  ## choose color from here \"https://seaborn.pydata.org/tutorial/color_palettes.html\"\n",
        "from matplotlib.colors import ListedColormap\n",
        "\n",
        "plotdata = df[['Country','Population', 'Internet_Users']][:20]\n",
        "plotdata.set_index('Country').plot(kind='bar', stacked=True, colormap=ListedColormap(sns.color_palette(\"coolwarm\", 7)), figsize=(12,6))       # \"Country\" as index\n",
        "plt.title(\"Population VS Internet user\")\n",
        "plt.xlabel(\"Country Name\")\n",
        "plt.ylabel(\"Population & Internet User\")"
      ],
      "execution_count": 182,
      "outputs": [
        {
          "output_type": "execute_result",
          "data": {
            "text/plain": [
              "Text(0, 0.5, 'Population & Internet User')"
            ]
          },
          "metadata": {
            "tags": []
          },
          "execution_count": 182
        },
        {
          "output_type": "display_data",
          "data": {
            "image/png": "[encoded data removed]",
            "text/plain": [
              "<Figure size 864x432 with 1 Axes>"
            ]
          },
          "metadata": {
            "tags": [],
            "needs_background": "light"
          }
        }
      ]
    },
    {
      "cell_type": "code",
      "metadata": {
        "id": "za01OHwVXE8L",
        "colab_type": "code",
        "colab": {}
      },
      "source": [
        ""
      ],
      "execution_count": 182,
      "outputs": []
    }
  ]
}